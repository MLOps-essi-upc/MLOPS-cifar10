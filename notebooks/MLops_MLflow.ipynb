{
 "cells": [
  {
   "cell_type": "code",
   "execution_count": null,
   "id": "cc0e8ba2",
   "metadata": {},
   "outputs": [],
   "source": [
    "%pip install transformers\n",
    "%pip install mlflow\n",
    "%pip install datasets   #!pip"
   ]
  },
  {
   "cell_type": "code",
   "execution_count": null,
   "id": "ba83f5bb-1fc0-47a5-9434-344f25c1bf04",
   "metadata": {},
   "outputs": [],
   "source": [
    "!pip install torch torchvision torchaudio"
   ]
  },
  {
   "cell_type": "code",
   "execution_count": 4,
   "id": "aca14824",
   "metadata": {},
   "outputs": [],
   "source": [
    "import torch\n",
    "import mlflow\n",
    "from transformers import ViTFeatureExtractor, ViTForImageClassification\n",
    "from PIL import Image\n",
    "import requests\n",
    "import pandas as pd\n",
    "from datasets import load_dataset\n",
    "from sklearn.metrics import f1_score"
   ]
  },
  {
   "cell_type": "code",
   "execution_count": null,
   "id": "cc9c2a40",
   "metadata": {},
   "outputs": [],
   "source": [
    "# Load CIFAR-10 test split \n",
    "test_ds = load_dataset(\"cifar10\", split=\"test\")"
   ]
  },
  {
   "cell_type": "code",
   "execution_count": 7,
   "id": "2b082580",
   "metadata": {},
   "outputs": [
    {
     "name": "stderr",
     "output_type": "stream",
     "text": [
      "2023/10/01 18:17:20 WARNING mlflow.utils.autologging_utils: You are using an unsupported version of transformers. If you encounter errors during autologging, try upgrading / downgrading transformers to a supported version, or try upgrading MLflow.\n",
      "2023/10/01 18:17:20 INFO mlflow.tracking.fluent: Autologging successfully enabled for transformers.\n",
      "2023/10/01 18:17:20 WARNING mlflow.utils.autologging_utils: You are using an unsupported version of sklearn. If you encounter errors during autologging, try upgrading / downgrading sklearn to a supported version, or try upgrading MLflow.\n",
      "2023/10/01 18:17:20 INFO mlflow.tracking.fluent: Autologging successfully enabled for sklearn.\n",
      "/Users/travisrolle/travisrolle/lib/python3.9/site-packages/transformers/models/vit/feature_extraction_vit.py:28: FutureWarning: The class ViTFeatureExtractor is deprecated and will be removed in version 5 of Transformers. Please use ViTImageProcessor instead.\n",
      "  warnings.warn(\n"
     ]
    },
    {
     "data": {
      "application/vnd.jupyter.widget-view+json": {
       "model_id": "3611aae311d847c980ef4f535686feda",
       "version_major": 2,
       "version_minor": 0
      },
      "text/plain": [
       "Downloading pytorch_model.bin:   0%|          | 0.00/343M [00:00<?, ?B/s]"
      ]
     },
     "metadata": {},
     "output_type": "display_data"
    },
    {
     "name": "stdout",
     "output_type": "stream",
     "text": [
      "file:///Users/travisrolle/Downloads/mlruns/0/0750b522eb8b4cb5a1081e77c9bbe39c/artifacts\n",
      "Run ID: 0750b522eb8b4cb5a1081e77c9bbe39c\n"
     ]
    }
   ],
   "source": [
    "mlflow.autolog()\n",
    "with mlflow.start_run() as run:\n",
    "  mlflow.log_params({\n",
    "    \"model_name\": \"vit-base-patch16-224-cifar10\"  \n",
    "    })\n",
    "  mlflow.log_param(\"dataset_name\", \"CIFAR-10 Test\")\n",
    "\n",
    "  feature_extractor = ViTFeatureExtractor.from_pretrained('nateraw/vit-base-patch16-224-cifar10')\n",
    "  model = ViTForImageClassification.from_pretrained('nateraw/vit-base-patch16-224-cifar10')\n",
    "\n",
    "  num_correct = 0\n",
    "  true_labels = []\n",
    "  predicted_labels = []\n",
    "  for i, example in enumerate(test_ds):\n",
    "    inputs = feature_extractor(images=example['img'], return_tensors=\"pt\")\n",
    "    outputs = model(**inputs)\n",
    "    preds = outputs.logits.argmax(-1)\n",
    "\n",
    "    true_labels.append(example['label'])\n",
    "    predicted_labels.append(preds.item())\n",
    "\n",
    "    if preds.item() == example['label']:\n",
    "      num_correct += 1\n",
    "\n",
    "  #calculate metrics\n",
    "  accuracy = num_correct / len(test_ds) \n",
    "  f1 = f1_score(y_true=true_labels, y_pred=predicted_labels, average='macro')\n",
    "  \n",
    "  # Log metrics\n",
    "  mlflow.log_metric(\"test_accuracy\", accuracy)\n",
    "  mlflow.log_metric(\"f1_score\", f1) \n",
    "\n",
    "  # Log model\n",
    "  mlflow.pytorch.log_model(model, \"cifar10_model\")\n",
    "\n",
    "  print(run.info.artifact_uri)\n",
    "  print(f\"Run ID: {run.info.run_id}\")\n",
    "\n",
    "  #now run 'mlflow ui' in terminal to view it\n",
    "\n",
    "  "
   ]
  },
  {
   "cell_type": "code",
   "execution_count": 8,
   "id": "f46a8a7e-fe97-42c2-b301-5026c689a02d",
   "metadata": {},
   "outputs": [],
   "source": [
    "mlflow.set_tracking_uri(\"http://192.168.5.172:5000\")"
   ]
  },
  {
   "cell_type": "code",
   "execution_count": 9,
   "id": "e6dcea07-c0ef-47ca-a71f-0192b691caa7",
   "metadata": {},
   "outputs": [
    {
     "data": {
      "text/plain": [
       "'3.9.6 (default, May  7 2023, 23:32:44) \\n[Clang 14.0.3 (clang-1403.0.22.14.1)]'"
      ]
     },
     "execution_count": 9,
     "metadata": {},
     "output_type": "execute_result"
    }
   ],
   "source": [
    "import sys\n",
    "sys.version\n"
   ]
  },
  {
   "cell_type": "code",
   "execution_count": 10,
   "id": "dccd9bb2-6c99-4202-b711-35861833abad",
   "metadata": {},
   "outputs": [
    {
     "name": "stdout",
     "output_type": "stream",
     "text": [
      "Transformers version: 4.33.3\n",
      "PyTorch version: 2.0.1\n"
     ]
    }
   ],
   "source": [
    "import transformers\n",
    "import torch\n",
    "\n",
    "print(\"Transformers version:\", transformers.__version__)\n",
    "print(\"PyTorch version:\", torch.__version__)\n",
    "\n"
   ]
  },
  {
   "cell_type": "code",
   "execution_count": null,
   "id": "b55cb955-6a4e-4884-8cd5-fda7a05fa5c7",
   "metadata": {},
   "outputs": [],
   "source": []
  }
 ],
 "metadata": {
  "kernelspec": {
   "display_name": "Python 3 (ipykernel)",
   "language": "python",
   "name": "python3"
  },
  "language_info": {
   "codemirror_mode": {
    "name": "ipython",
    "version": 3
   },
   "file_extension": ".py",
   "mimetype": "text/x-python",
   "name": "python",
   "nbconvert_exporter": "python",
   "pygments_lexer": "ipython3",
   "version": "3.9.6"
  }
 },
 "nbformat": 4,
 "nbformat_minor": 5
}
