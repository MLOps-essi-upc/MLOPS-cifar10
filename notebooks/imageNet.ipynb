{
 "cells": [
  {
   "cell_type": "code",
   "execution_count": null,
   "id": "cc0e8ba2",
   "metadata": {},
   "outputs": [],
   "source": [
    "%conda install mlflow\n",
    "%conda install pytest\n",
    "%conda install tensorflow"
   ]
  },
  {
   "cell_type": "code",
   "execution_count": null,
   "id": "aca14824",
   "metadata": {},
   "outputs": [],
   "source": [
    "import mlflow, time, pickle, sys\n",
    "import tensorflow as tf\n",
    "from tensorflow.keras.applications import InceptionV3\n",
    "#from tensorflow.keras.applications import VGG16\n",
    "\n",
    "from tensorflow.keras.applications.inception_v3 import preprocess_input\n",
    "from tensorflow.keras.preprocessing.image import ImageDataGenerator\n",
    "from tensorflow.keras.layers import Dense, Flatten\n",
    "from tensorflow.keras.models import Model\n",
    "\n",
    "from sklearn.metrics import f1_score  # Import f1_score\n",
    "\n",
    "sys.path.append('/home/w4z3/Git/MLOPS-cifar10')\n",
    "\n",
    "from src import TRAIN_DATA_DIR, TEST_DATA_DIR, MODELS_DIR\n"
   ]
  },
  {
   "cell_type": "code",
   "execution_count": null,
   "id": "cc9c2a40",
   "metadata": {},
   "outputs": [],
   "source": [
    "# Define the desired input size\n",
    "input_size = (75, 75)\n",
    "\n",
    "datagen = ImageDataGenerator(\n",
    "    preprocessing_function=preprocess_input,  # Apply InceptionV3 preprocessing\n",
    "    zoom_range=0.2,\n",
    "    horizontal_flip=True\n",
    ")\n",
    "\n",
    "batch_size = 32  # Adjust as needed\n",
    "\n",
    "train_generator = datagen.flow_from_directory(\n",
    "    TRAIN_DATA_DIR,\n",
    "    target_size=input_size,\n",
    "    batch_size=batch_size,\n",
    "    class_mode='categorical'\n",
    ")\n",
    "\n",
    "test_generator = datagen.flow_from_directory(\n",
    "    TEST_DATA_DIR,\n",
    "    target_size=input_size,\n",
    "    batch_size=batch_size,\n",
    "    class_mode='categorical'\n",
    ")"
   ]
  },
  {
   "cell_type": "code",
   "execution_count": 4,
   "id": "64ec409e",
   "metadata": {},
   "outputs": [],
   "source": [
    "base_model = InceptionV3(weights='imagenet', include_top=False, input_shape=(75, 75, 3))\n",
    "for layer in base_model.layers:\n",
    "    layer.trainable = False\n",
    "\n",
    "x = Flatten()(base_model.output)\n",
    "x = Dense(128, activation='relu')(x)\n",
    "predictions = Dense(10, activation='softmax')(x)"
   ]
  },
  {
   "cell_type": "code",
   "execution_count": 5,
   "id": "4ce05cbc",
   "metadata": {},
   "outputs": [],
   "source": [
    "model = Model(inputs=base_model.input, outputs=predictions)\n",
    "model.compile(optimizer='adam', loss='categorical_crossentropy', metrics=['accuracy'])"
   ]
  },
  {
   "cell_type": "code",
   "execution_count": 6,
   "id": "6880c0d0",
   "metadata": {},
   "outputs": [],
   "source": [
    "num_epochs = 10  # Adjust as needed\n",
    "batch_size = 32  # Adjust as needed"
   ]
  },
  {
   "cell_type": "code",
   "execution_count": null,
   "id": "2b082580",
   "metadata": {},
   "outputs": [],
   "source": [
    "mlflow.set_experiment(\"cifar10\")\n",
    "mlflow.sklearn.autolog(log_model_signatures=False, log_datasets=False)\n",
    "\n",
    "with mlflow.start_run():\n",
    "  mlflow.log_params({\n",
    "    \"model_name\": \"imagenet-cifar10\" ,\n",
    "    \"dataset_name\": \"CIFAR-10 Test\" ,\n",
    "    \"num_epochs\": num_epochs ,\n",
    "    \"batch_size\": batch_size\n",
    "  })\n",
    "\n",
    "  model.fit(train_generator, epochs=num_epochs, batch_size=batch_size)\n",
    "  model.save(MODELS_DIR/'cifar10.h5')\n",
    "  #loaded_model = tf.keras.models.load_model('your_model.h5')\n",
    "\n",
    "  evaluation = model.evaluate(test_generator)\n",
    "\n",
    "  loss = evaluation[0]\n",
    "  accuracy = evaluation[1]\n",
    "  mlflow.log_metric(\"evaluation_loss\", loss)\n",
    "  mlflow.log_metric(\"evaluation_accuracy\", accuracy)\n",
    "\n",
    "  # Calculate F1 score\n",
    "  y_true = test_generator.classes\n",
    "  y_pred = model.predict(test_generator)\n",
    "  y_pred = y_pred.argmax(axis=-1)  # Convert predicted probabilities to class labels\n",
    "  f1score = f1_score(y_true, y_pred, average='weighted')\n",
    "  mlflow.log_metric(\"evaluation_f1score\", f1score)\n",
    "\n",
    "  # Log model\n",
    "  with open(MODELS_DIR / \"cifar10.pkl\", \"wb\") as pickle_file:\n",
    "      pickle.dump(model, pickle_file)\n",
    "  "
   ]
  }
 ],
 "metadata": {
  "kernelspec": {
   "display_name": "Python 3 (ipykernel)",
   "language": "python",
   "name": "python3"
  },
  "language_info": {
   "codemirror_mode": {
    "name": "ipython",
    "version": 3
   },
   "file_extension": ".py",
   "mimetype": "text/x-python",
   "name": "python",
   "nbconvert_exporter": "python",
   "pygments_lexer": "ipython3",
   "version": "3.10.10"
  }
 },
 "nbformat": 4,
 "nbformat_minor": 5
}
