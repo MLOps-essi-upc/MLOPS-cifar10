{
 "cells": [
  {
   "cell_type": "code",
   "execution_count": 1,
   "id": "cc0e8ba2",
   "metadata": {},
   "outputs": [
    {
     "name": "stdout",
     "output_type": "stream",
     "text": [
      "Requirement already satisfied: mlflow in c:\\users\\pc\\appdata\\local\\packages\\pythonsoftwarefoundation.python.3.10_qbz5n2kfra8p0\\localcache\\local-packages\\python310\\site-packages (2.7.1)\n",
      "Requirement already satisfied: importlib-metadata!=4.7.0,<7,>=3.7.0 in c:\\users\\pc\\appdata\\local\\packages\\pythonsoftwarefoundation.python.3.10_qbz5n2kfra8p0\\localcache\\local-packages\\python310\\site-packages (from mlflow) (6.8.0)\n",
      "Requirement already satisfied: protobuf<5,>=3.12.0 in c:\\users\\pc\\appdata\\local\\packages\\pythonsoftwarefoundation.python.3.10_qbz5n2kfra8p0\\localcache\\local-packages\\python310\\site-packages (from mlflow) (4.24.4)\n",
      "Requirement already satisfied: cloudpickle<3 in c:\\users\\pc\\appdata\\local\\packages\\pythonsoftwarefoundation.python.3.10_qbz5n2kfra8p0\\localcache\\local-packages\\python310\\site-packages (from mlflow) (2.2.1)\n",
      "Requirement already satisfied: sqlalchemy<3,>=1.4.0 in c:\\users\\pc\\appdata\\local\\packages\\pythonsoftwarefoundation.python.3.10_qbz5n2kfra8p0\\localcache\\local-packages\\python310\\site-packages (from mlflow) (2.0.21)\n",
      "Requirement already satisfied: scikit-learn<2 in c:\\users\\pc\\appdata\\local\\packages\\pythonsoftwarefoundation.python.3.10_qbz5n2kfra8p0\\localcache\\local-packages\\python310\\site-packages (from mlflow) (1.1.1)\n",
      "Requirement already satisfied: markdown<4,>=3.3 in c:\\users\\pc\\appdata\\local\\packages\\pythonsoftwarefoundation.python.3.10_qbz5n2kfra8p0\\localcache\\local-packages\\python310\\site-packages (from mlflow) (3.3.7)\n",
      "Requirement already satisfied: alembic!=1.10.0,<2 in c:\\users\\pc\\appdata\\local\\packages\\pythonsoftwarefoundation.python.3.10_qbz5n2kfra8p0\\localcache\\local-packages\\python310\\site-packages (from mlflow) (1.12.0)\n",
      "Requirement already satisfied: packaging<24 in c:\\users\\pc\\appdata\\local\\packages\\pythonsoftwarefoundation.python.3.10_qbz5n2kfra8p0\\localcache\\local-packages\\python310\\site-packages (from mlflow) (21.3)\n",
      "Requirement already satisfied: databricks-cli<1,>=0.8.7 in c:\\users\\pc\\appdata\\local\\packages\\pythonsoftwarefoundation.python.3.10_qbz5n2kfra8p0\\localcache\\local-packages\\python310\\site-packages (from mlflow) (0.18.0)\n",
      "Requirement already satisfied: pyyaml<7,>=5.1 in c:\\users\\pc\\appdata\\local\\packages\\pythonsoftwarefoundation.python.3.10_qbz5n2kfra8p0\\localcache\\local-packages\\python310\\site-packages (from mlflow) (6.0)\n",
      "Requirement already satisfied: pytz<2024 in c:\\users\\pc\\appdata\\local\\packages\\pythonsoftwarefoundation.python.3.10_qbz5n2kfra8p0\\localcache\\local-packages\\python310\\site-packages (from mlflow) (2022.7.1)\n",
      "Requirement already satisfied: waitress<3 in c:\\users\\pc\\appdata\\local\\packages\\pythonsoftwarefoundation.python.3.10_qbz5n2kfra8p0\\localcache\\local-packages\\python310\\site-packages (from mlflow) (2.1.2)\n",
      "Requirement already satisfied: querystring-parser<2 in c:\\users\\pc\\appdata\\local\\packages\\pythonsoftwarefoundation.python.3.10_qbz5n2kfra8p0\\localcache\\local-packages\\python310\\site-packages (from mlflow) (1.2.4)\n",
      "Requirement already satisfied: click<9,>=7.0 in c:\\users\\pc\\appdata\\local\\packages\\pythonsoftwarefoundation.python.3.10_qbz5n2kfra8p0\\localcache\\local-packages\\python310\\site-packages (from mlflow) (8.1.3)\n",
      "Requirement already satisfied: pyarrow<14,>=4.0.0 in c:\\users\\pc\\appdata\\local\\packages\\pythonsoftwarefoundation.python.3.10_qbz5n2kfra8p0\\localcache\\local-packages\\python310\\site-packages (from mlflow) (13.0.0)\n",
      "Requirement already satisfied: scipy<2 in c:\\users\\pc\\appdata\\local\\packages\\pythonsoftwarefoundation.python.3.10_qbz5n2kfra8p0\\localcache\\local-packages\\python310\\site-packages (from mlflow) (1.8.1)\n",
      "Requirement already satisfied: numpy<2 in c:\\users\\pc\\appdata\\local\\packages\\pythonsoftwarefoundation.python.3.10_qbz5n2kfra8p0\\localcache\\local-packages\\python310\\site-packages (from mlflow) (1.24.4)\n",
      "Requirement already satisfied: entrypoints<1 in c:\\users\\pc\\appdata\\local\\packages\\pythonsoftwarefoundation.python.3.10_qbz5n2kfra8p0\\localcache\\local-packages\\python310\\site-packages (from mlflow) (0.4)\n",
      "Requirement already satisfied: sqlparse<1,>=0.4.0 in c:\\users\\pc\\appdata\\local\\packages\\pythonsoftwarefoundation.python.3.10_qbz5n2kfra8p0\\localcache\\local-packages\\python310\\site-packages (from mlflow) (0.4.4)\n",
      "Requirement already satisfied: gitpython<4,>=2.1.0 in c:\\users\\pc\\appdata\\local\\packages\\pythonsoftwarefoundation.python.3.10_qbz5n2kfra8p0\\localcache\\local-packages\\python310\\site-packages (from mlflow) (3.1.37)\n",
      "Requirement already satisfied: docker<7,>=4.0.0 in c:\\users\\pc\\appdata\\local\\packages\\pythonsoftwarefoundation.python.3.10_qbz5n2kfra8p0\\localcache\\local-packages\\python310\\site-packages (from mlflow) (6.1.3)\n",
      "Requirement already satisfied: matplotlib<4 in c:\\users\\pc\\appdata\\local\\packages\\pythonsoftwarefoundation.python.3.10_qbz5n2kfra8p0\\localcache\\local-packages\\python310\\site-packages (from mlflow) (3.5.2)\n",
      "Requirement already satisfied: Jinja2<4,>=3.0 in c:\\users\\pc\\appdata\\local\\packages\\pythonsoftwarefoundation.python.3.10_qbz5n2kfra8p0\\localcache\\local-packages\\python310\\site-packages (from mlflow) (3.1.2)\n",
      "Requirement already satisfied: pandas<3 in c:\\users\\pc\\appdata\\local\\packages\\pythonsoftwarefoundation.python.3.10_qbz5n2kfra8p0\\localcache\\local-packages\\python310\\site-packages (from mlflow) (1.5.3)\n",
      "Requirement already satisfied: Flask<3 in c:\\users\\pc\\appdata\\local\\packages\\pythonsoftwarefoundation.python.3.10_qbz5n2kfra8p0\\localcache\\local-packages\\python310\\site-packages (from mlflow) (2.3.3)\n",
      "Requirement already satisfied: requests<3,>=2.17.3 in c:\\users\\pc\\appdata\\local\\packages\\pythonsoftwarefoundation.python.3.10_qbz5n2kfra8p0\\localcache\\local-packages\\python310\\site-packages (from mlflow) (2.27.1)\n",
      "Requirement already satisfied: typing-extensions>=4 in c:\\users\\pc\\appdata\\local\\packages\\pythonsoftwarefoundation.python.3.10_qbz5n2kfra8p0\\localcache\\local-packages\\python310\\site-packages (from alembic!=1.10.0,<2->mlflow) (4.2.0)\n",
      "Requirement already satisfied: Mako in c:\\users\\pc\\appdata\\local\\packages\\pythonsoftwarefoundation.python.3.10_qbz5n2kfra8p0\\localcache\\local-packages\\python310\\site-packages (from alembic!=1.10.0,<2->mlflow) (1.2.4)\n",
      "Requirement already satisfied: colorama in c:\\users\\pc\\appdata\\local\\packages\\pythonsoftwarefoundation.python.3.10_qbz5n2kfra8p0\\localcache\\local-packages\\python310\\site-packages (from click<9,>=7.0->mlflow) (0.4.6)\n",
      "Requirement already satisfied: urllib3<3,>=1.26.7 in c:\\users\\pc\\appdata\\local\\packages\\pythonsoftwarefoundation.python.3.10_qbz5n2kfra8p0\\localcache\\local-packages\\python310\\site-packages (from databricks-cli<1,>=0.8.7->mlflow) (1.26.9)\n",
      "Requirement already satisfied: tabulate>=0.7.7 in c:\\users\\pc\\appdata\\local\\packages\\pythonsoftwarefoundation.python.3.10_qbz5n2kfra8p0\\localcache\\local-packages\\python310\\site-packages (from databricks-cli<1,>=0.8.7->mlflow) (0.9.0)\n",
      "Requirement already satisfied: six>=1.10.0 in c:\\users\\pc\\appdata\\local\\packages\\pythonsoftwarefoundation.python.3.10_qbz5n2kfra8p0\\localcache\\local-packages\\python310\\site-packages (from databricks-cli<1,>=0.8.7->mlflow) (1.16.0)\n",
      "Requirement already satisfied: oauthlib>=3.1.0 in c:\\users\\pc\\appdata\\local\\packages\\pythonsoftwarefoundation.python.3.10_qbz5n2kfra8p0\\localcache\\local-packages\\python310\\site-packages (from databricks-cli<1,>=0.8.7->mlflow) (3.2.0)\n",
      "Requirement already satisfied: pyjwt>=1.7.0 in c:\\users\\pc\\appdata\\local\\packages\\pythonsoftwarefoundation.python.3.10_qbz5n2kfra8p0\\localcache\\local-packages\\python310\\site-packages (from databricks-cli<1,>=0.8.7->mlflow) (2.8.0)\n",
      "Requirement already satisfied: pywin32>=304 in c:\\users\\pc\\appdata\\local\\packages\\pythonsoftwarefoundation.python.3.10_qbz5n2kfra8p0\\localcache\\local-packages\\python310\\site-packages (from docker<7,>=4.0.0->mlflow) (306)\n",
      "Requirement already satisfied: websocket-client>=0.32.0 in c:\\users\\pc\\appdata\\local\\packages\\pythonsoftwarefoundation.python.3.10_qbz5n2kfra8p0\\localcache\\local-packages\\python310\\site-packages (from docker<7,>=4.0.0->mlflow) (1.6.4)\n",
      "Requirement already satisfied: itsdangerous>=2.1.2 in c:\\users\\pc\\appdata\\local\\packages\\pythonsoftwarefoundation.python.3.10_qbz5n2kfra8p0\\localcache\\local-packages\\python310\\site-packages (from Flask<3->mlflow) (2.1.2)\n",
      "Requirement already satisfied: Werkzeug>=2.3.7 in c:\\users\\pc\\appdata\\local\\packages\\pythonsoftwarefoundation.python.3.10_qbz5n2kfra8p0\\localcache\\local-packages\\python310\\site-packages (from Flask<3->mlflow) (3.0.0)\n",
      "Requirement already satisfied: blinker>=1.6.2 in c:\\users\\pc\\appdata\\local\\packages\\pythonsoftwarefoundation.python.3.10_qbz5n2kfra8p0\\localcache\\local-packages\\python310\\site-packages (from Flask<3->mlflow) (1.6.3)\n",
      "Requirement already satisfied: gitdb<5,>=4.0.1 in c:\\users\\pc\\appdata\\local\\packages\\pythonsoftwarefoundation.python.3.10_qbz5n2kfra8p0\\localcache\\local-packages\\python310\\site-packages (from gitpython<4,>=2.1.0->mlflow) (4.0.10)\n",
      "Requirement already satisfied: zipp>=0.5 in c:\\users\\pc\\appdata\\local\\packages\\pythonsoftwarefoundation.python.3.10_qbz5n2kfra8p0\\localcache\\local-packages\\python310\\site-packages (from importlib-metadata!=4.7.0,<7,>=3.7.0->mlflow) (3.17.0)\n",
      "Requirement already satisfied: MarkupSafe>=2.0 in c:\\users\\pc\\appdata\\local\\packages\\pythonsoftwarefoundation.python.3.10_qbz5n2kfra8p0\\localcache\\local-packages\\python310\\site-packages (from Jinja2<4,>=3.0->mlflow) (2.1.3)\n",
      "Requirement already satisfied: fonttools>=4.22.0 in c:\\users\\pc\\appdata\\local\\packages\\pythonsoftwarefoundation.python.3.10_qbz5n2kfra8p0\\localcache\\local-packages\\python310\\site-packages (from matplotlib<4->mlflow) (4.33.3)\n",
      "Requirement already satisfied: pillow>=6.2.0 in c:\\users\\pc\\appdata\\local\\packages\\pythonsoftwarefoundation.python.3.10_qbz5n2kfra8p0\\localcache\\local-packages\\python310\\site-packages (from matplotlib<4->mlflow) (9.1.1)\n",
      "Requirement already satisfied: pyparsing>=2.2.1 in c:\\users\\pc\\appdata\\local\\packages\\pythonsoftwarefoundation.python.3.10_qbz5n2kfra8p0\\localcache\\local-packages\\python310\\site-packages (from matplotlib<4->mlflow) (3.0.9)\n",
      "Requirement already satisfied: python-dateutil>=2.7 in c:\\users\\pc\\appdata\\local\\packages\\pythonsoftwarefoundation.python.3.10_qbz5n2kfra8p0\\localcache\\local-packages\\python310\\site-packages (from matplotlib<4->mlflow) (2.8.2)\n",
      "Requirement already satisfied: cycler>=0.10 in c:\\users\\pc\\appdata\\local\\packages\\pythonsoftwarefoundation.python.3.10_qbz5n2kfra8p0\\localcache\\local-packages\\python310\\site-packages (from matplotlib<4->mlflow) (0.11.0)\n",
      "Requirement already satisfied: kiwisolver>=1.0.1 in c:\\users\\pc\\appdata\\local\\packages\\pythonsoftwarefoundation.python.3.10_qbz5n2kfra8p0\\localcache\\local-packages\\python310\\site-packages (from matplotlib<4->mlflow) (1.4.2)\n",
      "Requirement already satisfied: idna<4,>=2.5 in c:\\users\\pc\\appdata\\local\\packages\\pythonsoftwarefoundation.python.3.10_qbz5n2kfra8p0\\localcache\\local-packages\\python310\\site-packages (from requests<3,>=2.17.3->mlflow) (3.3)\n",
      "Requirement already satisfied: certifi>=2017.4.17 in c:\\users\\pc\\appdata\\local\\packages\\pythonsoftwarefoundation.python.3.10_qbz5n2kfra8p0\\localcache\\local-packages\\python310\\site-packages (from requests<3,>=2.17.3->mlflow) (2022.5.18.1)\n",
      "Requirement already satisfied: charset-normalizer~=2.0.0 in c:\\users\\pc\\appdata\\local\\packages\\pythonsoftwarefoundation.python.3.10_qbz5n2kfra8p0\\localcache\\local-packages\\python310\\site-packages (from requests<3,>=2.17.3->mlflow) (2.0.12)\n",
      "Requirement already satisfied: joblib>=1.0.0 in c:\\users\\pc\\appdata\\local\\packages\\pythonsoftwarefoundation.python.3.10_qbz5n2kfra8p0\\localcache\\local-packages\\python310\\site-packages (from scikit-learn<2->mlflow) (1.1.0)\n",
      "Requirement already satisfied: threadpoolctl>=2.0.0 in c:\\users\\pc\\appdata\\local\\packages\\pythonsoftwarefoundation.python.3.10_qbz5n2kfra8p0\\localcache\\local-packages\\python310\\site-packages (from scikit-learn<2->mlflow) (3.1.0)\n",
      "Requirement already satisfied: greenlet!=0.4.17 in c:\\users\\pc\\appdata\\local\\packages\\pythonsoftwarefoundation.python.3.10_qbz5n2kfra8p0\\localcache\\local-packages\\python310\\site-packages (from sqlalchemy<3,>=1.4.0->mlflow) (3.0.0)\n",
      "Requirement already satisfied: smmap<6,>=3.0.1 in c:\\users\\pc\\appdata\\local\\packages\\pythonsoftwarefoundation.python.3.10_qbz5n2kfra8p0\\localcache\\local-packages\\python310\\site-packages (from gitdb<5,>=4.0.1->gitpython<4,>=2.1.0->mlflow) (5.0.1)\n",
      "Note: you may need to restart the kernel to use updated packages.\n"
     ]
    },
    {
     "name": "stderr",
     "output_type": "stream",
     "text": [
      "WARNING: There was an error checking the latest version of pip.\n"
     ]
    },
    {
     "name": "stdout",
     "output_type": "stream",
     "text": [
      "Requirement already satisfied: pytest in c:\\users\\pc\\appdata\\local\\packages\\pythonsoftwarefoundation.python.3.10_qbz5n2kfra8p0\\localcache\\local-packages\\python310\\site-packages (7.4.2)\n",
      "Requirement already satisfied: tomli>=1.0.0 in c:\\users\\pc\\appdata\\local\\packages\\pythonsoftwarefoundation.python.3.10_qbz5n2kfra8p0\\localcache\\local-packages\\python310\\site-packages (from pytest) (2.0.1)\n",
      "Requirement already satisfied: packaging in c:\\users\\pc\\appdata\\local\\packages\\pythonsoftwarefoundation.python.3.10_qbz5n2kfra8p0\\localcache\\local-packages\\python310\\site-packages (from pytest) (21.3)\n",
      "Requirement already satisfied: colorama in c:\\users\\pc\\appdata\\local\\packages\\pythonsoftwarefoundation.python.3.10_qbz5n2kfra8p0\\localcache\\local-packages\\python310\\site-packages (from pytest) (0.4.6)\n",
      "Requirement already satisfied: pluggy<2.0,>=0.12 in c:\\users\\pc\\appdata\\local\\packages\\pythonsoftwarefoundation.python.3.10_qbz5n2kfra8p0\\localcache\\local-packages\\python310\\site-packages (from pytest) (1.3.0)\n",
      "Requirement already satisfied: iniconfig in c:\\users\\pc\\appdata\\local\\packages\\pythonsoftwarefoundation.python.3.10_qbz5n2kfra8p0\\localcache\\local-packages\\python310\\site-packages (from pytest) (2.0.0)\n",
      "Requirement already satisfied: exceptiongroup>=1.0.0rc8 in c:\\users\\pc\\appdata\\local\\packages\\pythonsoftwarefoundation.python.3.10_qbz5n2kfra8p0\\localcache\\local-packages\\python310\\site-packages (from pytest) (1.1.3)\n",
      "Requirement already satisfied: pyparsing!=3.0.5,>=2.0.2 in c:\\users\\pc\\appdata\\local\\packages\\pythonsoftwarefoundation.python.3.10_qbz5n2kfra8p0\\localcache\\local-packages\\python310\\site-packages (from packaging->pytest) (3.0.9)\n",
      "Note: you may need to restart the kernel to use updated packages.\n"
     ]
    },
    {
     "name": "stderr",
     "output_type": "stream",
     "text": [
      "WARNING: There was an error checking the latest version of pip.\n"
     ]
    },
    {
     "name": "stdout",
     "output_type": "stream",
     "text": [
      "Requirement already satisfied: tensorflow in c:\\users\\pc\\appdata\\local\\packages\\pythonsoftwarefoundation.python.3.10_qbz5n2kfra8p0\\localcache\\local-packages\\python310\\site-packages (2.14.0)\n",
      "Requirement already satisfied: tensorflow-intel==2.14.0 in c:\\users\\pc\\appdata\\local\\packages\\pythonsoftwarefoundation.python.3.10_qbz5n2kfra8p0\\localcache\\local-packages\\python310\\site-packages (from tensorflow) (2.14.0)\n",
      "Requirement already satisfied: protobuf!=4.21.0,!=4.21.1,!=4.21.2,!=4.21.3,!=4.21.4,!=4.21.5,<5.0.0dev,>=3.20.3 in c:\\users\\pc\\appdata\\local\\packages\\pythonsoftwarefoundation.python.3.10_qbz5n2kfra8p0\\localcache\\local-packages\\python310\\site-packages (from tensorflow-intel==2.14.0->tensorflow) (4.24.4)\n",
      "Requirement already satisfied: absl-py>=1.0.0 in c:\\users\\pc\\appdata\\local\\packages\\pythonsoftwarefoundation.python.3.10_qbz5n2kfra8p0\\localcache\\local-packages\\python310\\site-packages (from tensorflow-intel==2.14.0->tensorflow) (1.0.0)\n",
      "Requirement already satisfied: wrapt<1.15,>=1.11.0 in c:\\users\\pc\\appdata\\local\\packages\\pythonsoftwarefoundation.python.3.10_qbz5n2kfra8p0\\localcache\\local-packages\\python310\\site-packages (from tensorflow-intel==2.14.0->tensorflow) (1.14.1)\n",
      "Requirement already satisfied: keras<2.15,>=2.14.0 in c:\\users\\pc\\appdata\\local\\packages\\pythonsoftwarefoundation.python.3.10_qbz5n2kfra8p0\\localcache\\local-packages\\python310\\site-packages (from tensorflow-intel==2.14.0->tensorflow) (2.14.0)\n",
      "Requirement already satisfied: libclang>=13.0.0 in c:\\users\\pc\\appdata\\local\\packages\\pythonsoftwarefoundation.python.3.10_qbz5n2kfra8p0\\localcache\\local-packages\\python310\\site-packages (from tensorflow-intel==2.14.0->tensorflow) (14.0.1)\n",
      "Requirement already satisfied: ml-dtypes==0.2.0 in c:\\users\\pc\\appdata\\local\\packages\\pythonsoftwarefoundation.python.3.10_qbz5n2kfra8p0\\localcache\\local-packages\\python310\\site-packages (from tensorflow-intel==2.14.0->tensorflow) (0.2.0)\n",
      "Requirement already satisfied: setuptools in c:\\program files\\windowsapps\\pythonsoftwarefoundation.python.3.10_3.10.3056.0_x64__qbz5n2kfra8p0\\lib\\site-packages (from tensorflow-intel==2.14.0->tensorflow) (65.5.0)\n",
      "Requirement already satisfied: tensorflow-estimator<2.15,>=2.14.0 in c:\\users\\pc\\appdata\\local\\packages\\pythonsoftwarefoundation.python.3.10_qbz5n2kfra8p0\\localcache\\local-packages\\python310\\site-packages (from tensorflow-intel==2.14.0->tensorflow) (2.14.0)\n",
      "Requirement already satisfied: flatbuffers>=23.5.26 in c:\\users\\pc\\appdata\\local\\packages\\pythonsoftwarefoundation.python.3.10_qbz5n2kfra8p0\\localcache\\local-packages\\python310\\site-packages (from tensorflow-intel==2.14.0->tensorflow) (23.5.26)\n",
      "Requirement already satisfied: tensorflow-io-gcs-filesystem>=0.23.1 in c:\\users\\pc\\appdata\\local\\packages\\pythonsoftwarefoundation.python.3.10_qbz5n2kfra8p0\\localcache\\local-packages\\python310\\site-packages (from tensorflow-intel==2.14.0->tensorflow) (0.26.0)\n",
      "Requirement already satisfied: six>=1.12.0 in c:\\users\\pc\\appdata\\local\\packages\\pythonsoftwarefoundation.python.3.10_qbz5n2kfra8p0\\localcache\\local-packages\\python310\\site-packages (from tensorflow-intel==2.14.0->tensorflow) (1.16.0)\n",
      "Requirement already satisfied: termcolor>=1.1.0 in c:\\users\\pc\\appdata\\local\\packages\\pythonsoftwarefoundation.python.3.10_qbz5n2kfra8p0\\localcache\\local-packages\\python310\\site-packages (from tensorflow-intel==2.14.0->tensorflow) (1.1.0)\n",
      "Requirement already satisfied: typing-extensions>=3.6.6 in c:\\users\\pc\\appdata\\local\\packages\\pythonsoftwarefoundation.python.3.10_qbz5n2kfra8p0\\localcache\\local-packages\\python310\\site-packages (from tensorflow-intel==2.14.0->tensorflow) (4.2.0)\n",
      "Requirement already satisfied: gast!=0.5.0,!=0.5.1,!=0.5.2,>=0.2.1 in c:\\users\\pc\\appdata\\local\\packages\\pythonsoftwarefoundation.python.3.10_qbz5n2kfra8p0\\localcache\\local-packages\\python310\\site-packages (from tensorflow-intel==2.14.0->tensorflow) (0.4.0)\n",
      "Requirement already satisfied: tensorboard<2.15,>=2.14 in c:\\users\\pc\\appdata\\local\\packages\\pythonsoftwarefoundation.python.3.10_qbz5n2kfra8p0\\localcache\\local-packages\\python310\\site-packages (from tensorflow-intel==2.14.0->tensorflow) (2.14.1)\n",
      "Requirement already satisfied: opt-einsum>=2.3.2 in c:\\users\\pc\\appdata\\local\\packages\\pythonsoftwarefoundation.python.3.10_qbz5n2kfra8p0\\localcache\\local-packages\\python310\\site-packages (from tensorflow-intel==2.14.0->tensorflow) (3.3.0)\n",
      "Requirement already satisfied: numpy>=1.23.5 in c:\\users\\pc\\appdata\\local\\packages\\pythonsoftwarefoundation.python.3.10_qbz5n2kfra8p0\\localcache\\local-packages\\python310\\site-packages (from tensorflow-intel==2.14.0->tensorflow) (1.24.4)\n",
      "Requirement already satisfied: packaging in c:\\users\\pc\\appdata\\local\\packages\\pythonsoftwarefoundation.python.3.10_qbz5n2kfra8p0\\localcache\\local-packages\\python310\\site-packages (from tensorflow-intel==2.14.0->tensorflow) (21.3)\n",
      "Requirement already satisfied: google-pasta>=0.1.1 in c:\\users\\pc\\appdata\\local\\packages\\pythonsoftwarefoundation.python.3.10_qbz5n2kfra8p0\\localcache\\local-packages\\python310\\site-packages (from tensorflow-intel==2.14.0->tensorflow) (0.2.0)\n",
      "Requirement already satisfied: h5py>=2.9.0 in c:\\users\\pc\\appdata\\local\\packages\\pythonsoftwarefoundation.python.3.10_qbz5n2kfra8p0\\localcache\\local-packages\\python310\\site-packages (from tensorflow-intel==2.14.0->tensorflow) (3.7.0)\n",
      "Requirement already satisfied: grpcio<2.0,>=1.24.3 in c:\\users\\pc\\appdata\\local\\packages\\pythonsoftwarefoundation.python.3.10_qbz5n2kfra8p0\\localcache\\local-packages\\python310\\site-packages (from tensorflow-intel==2.14.0->tensorflow) (1.59.0)\n",
      "Requirement already satisfied: astunparse>=1.6.0 in c:\\users\\pc\\appdata\\local\\packages\\pythonsoftwarefoundation.python.3.10_qbz5n2kfra8p0\\localcache\\local-packages\\python310\\site-packages (from tensorflow-intel==2.14.0->tensorflow) (1.6.3)\n",
      "Requirement already satisfied: wheel<1.0,>=0.23.0 in c:\\users\\pc\\appdata\\local\\packages\\pythonsoftwarefoundation.python.3.10_qbz5n2kfra8p0\\localcache\\local-packages\\python310\\site-packages (from astunparse>=1.6.0->tensorflow-intel==2.14.0->tensorflow) (0.37.1)\n",
      "Requirement already satisfied: google-auth<3,>=1.6.3 in c:\\users\\pc\\appdata\\local\\packages\\pythonsoftwarefoundation.python.3.10_qbz5n2kfra8p0\\localcache\\local-packages\\python310\\site-packages (from tensorboard<2.15,>=2.14->tensorflow-intel==2.14.0->tensorflow) (2.23.3)\n",
      "Requirement already satisfied: markdown>=2.6.8 in c:\\users\\pc\\appdata\\local\\packages\\pythonsoftwarefoundation.python.3.10_qbz5n2kfra8p0\\localcache\\local-packages\\python310\\site-packages (from tensorboard<2.15,>=2.14->tensorflow-intel==2.14.0->tensorflow) (3.3.7)\n",
      "Requirement already satisfied: werkzeug>=1.0.1 in c:\\users\\pc\\appdata\\local\\packages\\pythonsoftwarefoundation.python.3.10_qbz5n2kfra8p0\\localcache\\local-packages\\python310\\site-packages (from tensorboard<2.15,>=2.14->tensorflow-intel==2.14.0->tensorflow) (3.0.0)\n",
      "Requirement already satisfied: google-auth-oauthlib<1.1,>=0.5 in c:\\users\\pc\\appdata\\local\\packages\\pythonsoftwarefoundation.python.3.10_qbz5n2kfra8p0\\localcache\\local-packages\\python310\\site-packages (from tensorboard<2.15,>=2.14->tensorflow-intel==2.14.0->tensorflow) (1.0.0)\n",
      "Requirement already satisfied: tensorboard-data-server<0.8.0,>=0.7.0 in c:\\users\\pc\\appdata\\local\\packages\\pythonsoftwarefoundation.python.3.10_qbz5n2kfra8p0\\localcache\\local-packages\\python310\\site-packages (from tensorboard<2.15,>=2.14->tensorflow-intel==2.14.0->tensorflow) (0.7.1)\n",
      "Requirement already satisfied: requests<3,>=2.21.0 in c:\\users\\pc\\appdata\\local\\packages\\pythonsoftwarefoundation.python.3.10_qbz5n2kfra8p0\\localcache\\local-packages\\python310\\site-packages (from tensorboard<2.15,>=2.14->tensorflow-intel==2.14.0->tensorflow) (2.27.1)\n",
      "Requirement already satisfied: pyparsing!=3.0.5,>=2.0.2 in c:\\users\\pc\\appdata\\local\\packages\\pythonsoftwarefoundation.python.3.10_qbz5n2kfra8p0\\localcache\\local-packages\\python310\\site-packages (from packaging->tensorflow-intel==2.14.0->tensorflow) (3.0.9)\n",
      "Requirement already satisfied: rsa<5,>=3.1.4 in c:\\users\\pc\\appdata\\local\\packages\\pythonsoftwarefoundation.python.3.10_qbz5n2kfra8p0\\localcache\\local-packages\\python310\\site-packages (from google-auth<3,>=1.6.3->tensorboard<2.15,>=2.14->tensorflow-intel==2.14.0->tensorflow) (4.8)\n",
      "Requirement already satisfied: cachetools<6.0,>=2.0.0 in c:\\users\\pc\\appdata\\local\\packages\\pythonsoftwarefoundation.python.3.10_qbz5n2kfra8p0\\localcache\\local-packages\\python310\\site-packages (from google-auth<3,>=1.6.3->tensorboard<2.15,>=2.14->tensorflow-intel==2.14.0->tensorflow) (5.1.0)\n",
      "Requirement already satisfied: pyasn1-modules>=0.2.1 in c:\\users\\pc\\appdata\\local\\packages\\pythonsoftwarefoundation.python.3.10_qbz5n2kfra8p0\\localcache\\local-packages\\python310\\site-packages (from google-auth<3,>=1.6.3->tensorboard<2.15,>=2.14->tensorflow-intel==2.14.0->tensorflow) (0.2.8)\n",
      "Requirement already satisfied: requests-oauthlib>=0.7.0 in c:\\users\\pc\\appdata\\local\\packages\\pythonsoftwarefoundation.python.3.10_qbz5n2kfra8p0\\localcache\\local-packages\\python310\\site-packages (from google-auth-oauthlib<1.1,>=0.5->tensorboard<2.15,>=2.14->tensorflow-intel==2.14.0->tensorflow) (1.3.1)\n",
      "Requirement already satisfied: urllib3<1.27,>=1.21.1 in c:\\users\\pc\\appdata\\local\\packages\\pythonsoftwarefoundation.python.3.10_qbz5n2kfra8p0\\localcache\\local-packages\\python310\\site-packages (from requests<3,>=2.21.0->tensorboard<2.15,>=2.14->tensorflow-intel==2.14.0->tensorflow) (1.26.9)\n",
      "Requirement already satisfied: idna<4,>=2.5 in c:\\users\\pc\\appdata\\local\\packages\\pythonsoftwarefoundation.python.3.10_qbz5n2kfra8p0\\localcache\\local-packages\\python310\\site-packages (from requests<3,>=2.21.0->tensorboard<2.15,>=2.14->tensorflow-intel==2.14.0->tensorflow) (3.3)\n",
      "Requirement already satisfied: certifi>=2017.4.17 in c:\\users\\pc\\appdata\\local\\packages\\pythonsoftwarefoundation.python.3.10_qbz5n2kfra8p0\\localcache\\local-packages\\python310\\site-packages (from requests<3,>=2.21.0->tensorboard<2.15,>=2.14->tensorflow-intel==2.14.0->tensorflow) (2022.5.18.1)\n",
      "Requirement already satisfied: charset-normalizer~=2.0.0 in c:\\users\\pc\\appdata\\local\\packages\\pythonsoftwarefoundation.python.3.10_qbz5n2kfra8p0\\localcache\\local-packages\\python310\\site-packages (from requests<3,>=2.21.0->tensorboard<2.15,>=2.14->tensorflow-intel==2.14.0->tensorflow) (2.0.12)\n",
      "Requirement already satisfied: MarkupSafe>=2.1.1 in c:\\users\\pc\\appdata\\local\\packages\\pythonsoftwarefoundation.python.3.10_qbz5n2kfra8p0\\localcache\\local-packages\\python310\\site-packages (from werkzeug>=1.0.1->tensorboard<2.15,>=2.14->tensorflow-intel==2.14.0->tensorflow) (2.1.3)\n",
      "Requirement already satisfied: pyasn1<0.5.0,>=0.4.6 in c:\\users\\pc\\appdata\\local\\packages\\pythonsoftwarefoundation.python.3.10_qbz5n2kfra8p0\\localcache\\local-packages\\python310\\site-packages (from pyasn1-modules>=0.2.1->google-auth<3,>=1.6.3->tensorboard<2.15,>=2.14->tensorflow-intel==2.14.0->tensorflow) (0.4.8)\n",
      "Requirement already satisfied: oauthlib>=3.0.0 in c:\\users\\pc\\appdata\\local\\packages\\pythonsoftwarefoundation.python.3.10_qbz5n2kfra8p0\\localcache\\local-packages\\python310\\site-packages (from requests-oauthlib>=0.7.0->google-auth-oauthlib<1.1,>=0.5->tensorboard<2.15,>=2.14->tensorflow-intel==2.14.0->tensorflow) (3.2.0)\n",
      "Note: you may need to restart the kernel to use updated packages.\n"
     ]
    },
    {
     "name": "stderr",
     "output_type": "stream",
     "text": [
      "WARNING: There was an error checking the latest version of pip.\n"
     ]
    }
   ],
   "source": [
    "%pip install mlflow\n",
    "%pip install pytest\n",
    "%pip install tensorflow"
   ]
  },
  {
   "cell_type": "code",
   "execution_count": 2,
   "id": "aca14824",
   "metadata": {},
   "outputs": [],
   "source": [
    "#%pip install tensorflow\n",
    "#%pip install tensorflow.keras.applications\n",
    "\n",
    "import mlflow, time, pickle, sys\n",
    "import tensorflow as tf\n",
    "from tensorflow.keras.applications import InceptionV3\n",
    "#from tensorflow.keras.applications import VGG16\n",
    "\n",
    "from tensorflow.keras.applications.inception_v3 import preprocess_input\n",
    "from tensorflow.keras.preprocessing.image import ImageDataGenerator\n",
    "from tensorflow.keras.layers import Dense, Flatten\n",
    "from tensorflow.keras.models import Model\n",
    "\n",
    "from sklearn.metrics import f1_score  # Import f1_score\n",
    "\n",
    "sys.path.append('/home/w4z3/Git/MLOPS-cifar10')\n",
    "\n",
    "\n"
   ]
  },
  {
   "cell_type": "code",
   "execution_count": 18,
   "id": "dbb6cca3",
   "metadata": {},
   "outputs": [
    {
     "ename": "SyntaxError",
     "evalue": "(unicode error) 'unicodeescape' codec can't decode bytes in position 2-3: truncated \\UXXXXXXXX escape (3732572943.py, line 2)",
     "output_type": "error",
     "traceback": [
      "\u001b[1;36m  Cell \u001b[1;32mIn[18], line 2\u001b[1;36m\u001b[0m\n\u001b[1;33m    sys.path.append('C:\\Users\\PC\\Desktop\\Barcelona\\MLOPS\\GITHUB\\MLOPS-cifar10')\u001b[0m\n\u001b[1;37m                                                                              ^\u001b[0m\n\u001b[1;31mSyntaxError\u001b[0m\u001b[1;31m:\u001b[0m (unicode error) 'unicodeescape' codec can't decode bytes in position 2-3: truncated \\UXXXXXXXX escape\n"
     ]
    }
   ],
   "source": [
    "%pip install src==0.0.7\n",
    "#sys.path.append('C:\\Users\\PC\\Desktop\\Barcelona\\MLOPS\\GITHUB\\MLOPS-cifar10')\n",
    "from src import TRAIN_DATA_DIR, TEST_DATA_DIR, MODELS_DIR"
   ]
  },
  {
   "cell_type": "code",
   "execution_count": 5,
   "id": "1f3f6694",
   "metadata": {},
   "outputs": [
    {
     "name": "stdout",
     "output_type": "stream",
     "text": [
      "Requirement already satisfied: codecarbon in c:\\users\\pc\\appdata\\local\\packages\\pythonsoftwarefoundation.python.3.10_qbz5n2kfra8p0\\localcache\\local-packages\\python310\\site-packages (2.3.1)\n",
      "Requirement already satisfied: pandas in c:\\users\\pc\\appdata\\local\\packages\\pythonsoftwarefoundation.python.3.10_qbz5n2kfra8p0\\localcache\\local-packages\\python310\\site-packages (from codecarbon) (1.5.3)\n",
      "Requirement already satisfied: arrow in c:\\users\\pc\\appdata\\local\\packages\\pythonsoftwarefoundation.python.3.10_qbz5n2kfra8p0\\localcache\\local-packages\\python310\\site-packages (from codecarbon) (1.3.0)\n",
      "Requirement already satisfied: psutil in c:\\users\\pc\\appdata\\local\\packages\\pythonsoftwarefoundation.python.3.10_qbz5n2kfra8p0\\localcache\\local-packages\\python310\\site-packages (from codecarbon) (5.9.5)\n",
      "Requirement already satisfied: requests in c:\\users\\pc\\appdata\\local\\packages\\pythonsoftwarefoundation.python.3.10_qbz5n2kfra8p0\\localcache\\local-packages\\python310\\site-packages (from codecarbon) (2.27.1)\n",
      "Requirement already satisfied: prometheus-client in c:\\users\\pc\\appdata\\local\\packages\\pythonsoftwarefoundation.python.3.10_qbz5n2kfra8p0\\localcache\\local-packages\\python310\\site-packages (from codecarbon) (0.17.1)\n",
      "Requirement already satisfied: pynvml in c:\\users\\pc\\appdata\\local\\packages\\pythonsoftwarefoundation.python.3.10_qbz5n2kfra8p0\\localcache\\local-packages\\python310\\site-packages (from codecarbon) (11.5.0)\n",
      "Requirement already satisfied: fuzzywuzzy in c:\\users\\pc\\appdata\\local\\packages\\pythonsoftwarefoundation.python.3.10_qbz5n2kfra8p0\\localcache\\local-packages\\python310\\site-packages (from codecarbon) (0.18.0)\n",
      "Requirement already satisfied: click in c:\\users\\pc\\appdata\\local\\packages\\pythonsoftwarefoundation.python.3.10_qbz5n2kfra8p0\\localcache\\local-packages\\python310\\site-packages (from codecarbon) (8.1.3)\n",
      "Requirement already satisfied: py-cpuinfo in c:\\users\\pc\\appdata\\local\\packages\\pythonsoftwarefoundation.python.3.10_qbz5n2kfra8p0\\localcache\\local-packages\\python310\\site-packages (from codecarbon) (9.0.0)\n",
      "Requirement already satisfied: types-python-dateutil>=2.8.10 in c:\\users\\pc\\appdata\\local\\packages\\pythonsoftwarefoundation.python.3.10_qbz5n2kfra8p0\\localcache\\local-packages\\python310\\site-packages (from arrow->codecarbon) (2.8.19.14)\n",
      "Requirement already satisfied: python-dateutil>=2.7.0 in c:\\users\\pc\\appdata\\local\\packages\\pythonsoftwarefoundation.python.3.10_qbz5n2kfra8p0\\localcache\\local-packages\\python310\\site-packages (from arrow->codecarbon) (2.8.2)\n",
      "Requirement already satisfied: colorama in c:\\users\\pc\\appdata\\local\\packages\\pythonsoftwarefoundation.python.3.10_qbz5n2kfra8p0\\localcache\\local-packages\\python310\\site-packages (from click->codecarbon) (0.4.6)\n",
      "Requirement already satisfied: numpy>=1.21.0 in c:\\users\\pc\\appdata\\local\\packages\\pythonsoftwarefoundation.python.3.10_qbz5n2kfra8p0\\localcache\\local-packages\\python310\\site-packages (from pandas->codecarbon) (1.24.4)\n",
      "Requirement already satisfied: pytz>=2020.1 in c:\\users\\pc\\appdata\\local\\packages\\pythonsoftwarefoundation.python.3.10_qbz5n2kfra8p0\\localcache\\local-packages\\python310\\site-packages (from pandas->codecarbon) (2022.7.1)\n",
      "Requirement already satisfied: certifi>=2017.4.17 in c:\\users\\pc\\appdata\\local\\packages\\pythonsoftwarefoundation.python.3.10_qbz5n2kfra8p0\\localcache\\local-packages\\python310\\site-packages (from requests->codecarbon) (2022.5.18.1)\n",
      "Requirement already satisfied: urllib3<1.27,>=1.21.1 in c:\\users\\pc\\appdata\\local\\packages\\pythonsoftwarefoundation.python.3.10_qbz5n2kfra8p0\\localcache\\local-packages\\python310\\site-packages (from requests->codecarbon) (1.26.9)\n",
      "Requirement already satisfied: charset-normalizer~=2.0.0 in c:\\users\\pc\\appdata\\local\\packages\\pythonsoftwarefoundation.python.3.10_qbz5n2kfra8p0\\localcache\\local-packages\\python310\\site-packages (from requests->codecarbon) (2.0.12)\n",
      "Requirement already satisfied: idna<4,>=2.5 in c:\\users\\pc\\appdata\\local\\packages\\pythonsoftwarefoundation.python.3.10_qbz5n2kfra8p0\\localcache\\local-packages\\python310\\site-packages (from requests->codecarbon) (3.3)\n",
      "Requirement already satisfied: six>=1.5 in c:\\users\\pc\\appdata\\local\\packages\\pythonsoftwarefoundation.python.3.10_qbz5n2kfra8p0\\localcache\\local-packages\\python310\\site-packages (from python-dateutil>=2.7.0->arrow->codecarbon) (1.16.0)\n",
      "Note: you may need to restart the kernel to use updated packages.\n"
     ]
    },
    {
     "name": "stderr",
     "output_type": "stream",
     "text": [
      "WARNING: There was an error checking the latest version of pip.\n"
     ]
    }
   ],
   "source": [
    "%pip install codecarbon\n",
    "from codecarbon import track_emissions, EmissionsTracker"
   ]
  },
  {
   "cell_type": "code",
   "execution_count": 8,
   "id": "cc9c2a40",
   "metadata": {},
   "outputs": [
    {
     "name": "stdout",
     "output_type": "stream",
     "text": [
      "Found 10000 images belonging to 10 classes.\n",
      "Found 10000 images belonging to 10 classes.\n"
     ]
    }
   ],
   "source": [
    "# Define the desired input size\n",
    "input_size = (75, 75)\n",
    "\n",
    "datagen = ImageDataGenerator(\n",
    "    preprocessing_function=preprocess_input,  # Apply InceptionV3 preprocessing\n",
    "    zoom_range=0.2,\n",
    "    horizontal_flip=True\n",
    ")\n",
    "\n",
    "batch_size = 32  # Adjust as needed\n",
    "\n",
    "train_generator = datagen.flow_from_directory(\n",
    "    #\"../data/test/\",\n",
    "    TRAIN_DATA_DIR,\n",
    "    target_size=input_size,\n",
    "    batch_size=batch_size,\n",
    "    class_mode='categorical'\n",
    ")\n",
    "\n",
    "test_generator = datagen.flow_from_directory(\n",
    "    #\"../data/test/\",\n",
    "    TEST_DATA_DIR,  \n",
    "    target_size=input_size,\n",
    "    batch_size=batch_size,\n",
    "    class_mode='categorical'\n",
    ")"
   ]
  },
  {
   "cell_type": "code",
   "execution_count": 9,
   "id": "64ec409e",
   "metadata": {},
   "outputs": [
    {
     "name": "stderr",
     "output_type": "stream",
     "text": [
      "[codecarbon INFO @ 21:36:33] [setup] RAM Tracking...\n",
      "[codecarbon INFO @ 21:36:33] [setup] GPU Tracking...\n",
      "[codecarbon INFO @ 21:36:33] No GPU found.\n",
      "[codecarbon INFO @ 21:36:33] [setup] CPU Tracking...\n",
      "[codecarbon WARNING @ 21:36:33] No CPU tracking mode found. Falling back on CPU constant mode.\n",
      "[codecarbon INFO @ 21:36:38] CPU Model on constant consumption mode: Intel(R) Core(TM) i7-8550U CPU @ 1.80GHz\n",
      "[codecarbon INFO @ 21:36:38] >>> Tracker's metadata:\n",
      "[codecarbon INFO @ 21:36:38]   Platform system: Windows-10-10.0.19045-SP0\n",
      "[codecarbon INFO @ 21:36:38]   Python version: 3.10.11\n",
      "[codecarbon INFO @ 21:36:38]   CodeCarbon version: 2.3.1\n",
      "[codecarbon INFO @ 21:36:38]   Available RAM : 15.900 GB\n",
      "[codecarbon INFO @ 21:36:38]   CPU count: 8\n",
      "[codecarbon INFO @ 21:36:38]   CPU model: Intel(R) Core(TM) i7-8550U CPU @ 1.80GHz\n",
      "[codecarbon INFO @ 21:36:38]   GPU count: None\n",
      "[codecarbon INFO @ 21:36:38]   GPU model: None\n"
     ]
    },
    {
     "name": "stdout",
     "output_type": "stream",
     "text": [
      "Downloading data from https://storage.googleapis.com/tensorflow/keras-applications/inception_v3/inception_v3_weights_tf_dim_ordering_tf_kernels_notop.h5\n",
      "27795456/87910968 [========>.....................] - ETA: 16s"
     ]
    },
    {
     "name": "stderr",
     "output_type": "stream",
     "text": [
      "[codecarbon INFO @ 21:36:53] Energy consumed for RAM : 0.000025 kWh. RAM Power : 5.962331771850587 W\n"
     ]
    },
    {
     "name": "stdout",
     "output_type": "stream",
     "text": [
      "27844608/87910968 [========>.....................] - ETA: 16s"
     ]
    },
    {
     "name": "stderr",
     "output_type": "stream",
     "text": [
      "[codecarbon INFO @ 21:36:53] Energy consumed for all CPUs : 0.000031 kWh. Total CPU Power : 7.5 W\n",
      "[codecarbon INFO @ 21:36:53] 0.000056 kWh of electricity used since the beginning.\n"
     ]
    },
    {
     "name": "stdout",
     "output_type": "stream",
     "text": [
      "85778432/87910968 [============================>.] - ETA: 0s"
     ]
    },
    {
     "name": "stderr",
     "output_type": "stream",
     "text": [
      "[codecarbon INFO @ 21:37:08] Energy consumed for RAM : 0.000050 kWh. RAM Power : 5.962331771850587 W\n",
      "[codecarbon INFO @ 21:37:08] Energy consumed for all CPUs : 0.000063 kWh. Total CPU Power : 7.5 W\n",
      "[codecarbon INFO @ 21:37:08] 0.000112 kWh of electricity used since the beginning.\n"
     ]
    },
    {
     "name": "stdout",
     "output_type": "stream",
     "text": [
      "87910968/87910968 [==============================] - 23s 0us/step\n"
     ]
    },
    {
     "name": "stderr",
     "output_type": "stream",
     "text": [
      "[codecarbon INFO @ 21:37:10] Energy consumed for RAM : 0.000054 kWh. RAM Power : 5.962331771850587 W\n",
      "[codecarbon INFO @ 21:37:10] Energy consumed for all CPUs : 0.000068 kWh. Total CPU Power : 7.5 W\n",
      "[codecarbon INFO @ 21:37:10] 0.000122 kWh of electricity used since the beginning.\n"
     ]
    }
   ],
   "source": [
    "with EmissionsTracker() as tracker:\n",
    "\n",
    "    base_model = InceptionV3(weights='imagenet', include_top=False, input_shape=(75, 75, 3))\n",
    "    for layer in base_model.layers:\n",
    "        layer.trainable = False\n",
    "\n",
    "    x = Flatten()(base_model.output)\n",
    "    x = Dense(128, activation='relu')(x)\n",
    "    predictions = Dense(10, activation='softmax')(x)"
   ]
  },
  {
   "cell_type": "code",
   "execution_count": 10,
   "id": "4ce05cbc",
   "metadata": {},
   "outputs": [
    {
     "name": "stderr",
     "output_type": "stream",
     "text": [
      "[codecarbon INFO @ 21:39:20] [setup] RAM Tracking...\n",
      "[codecarbon INFO @ 21:39:20] [setup] GPU Tracking...\n",
      "[codecarbon INFO @ 21:39:20] No GPU found.\n",
      "[codecarbon INFO @ 21:39:20] [setup] CPU Tracking...\n",
      "[codecarbon WARNING @ 21:39:20] No CPU tracking mode found. Falling back on CPU constant mode.\n",
      "[codecarbon INFO @ 21:39:24] CPU Model on constant consumption mode: Intel(R) Core(TM) i7-8550U CPU @ 1.80GHz\n",
      "[codecarbon INFO @ 21:39:24] >>> Tracker's metadata:\n",
      "[codecarbon INFO @ 21:39:24]   Platform system: Windows-10-10.0.19045-SP0\n",
      "[codecarbon INFO @ 21:39:24]   Python version: 3.10.11\n",
      "[codecarbon INFO @ 21:39:24]   CodeCarbon version: 2.3.1\n",
      "[codecarbon INFO @ 21:39:24]   Available RAM : 15.900 GB\n",
      "[codecarbon INFO @ 21:39:24]   CPU count: 8\n",
      "[codecarbon INFO @ 21:39:24]   CPU model: Intel(R) Core(TM) i7-8550U CPU @ 1.80GHz\n",
      "[codecarbon INFO @ 21:39:24]   GPU count: None\n",
      "[codecarbon INFO @ 21:39:24]   GPU model: None\n",
      "[codecarbon INFO @ 21:39:25] Energy consumed for RAM : 0.000000 kWh. RAM Power : 5.962331771850587 W\n",
      "[codecarbon INFO @ 21:39:25] Energy consumed for all CPUs : 0.000000 kWh. Total CPU Power : 7.5 W\n",
      "[codecarbon INFO @ 21:39:25] 0.000001 kWh of electricity used since the beginning.\n"
     ]
    }
   ],
   "source": [
    "\n",
    "model = Model(inputs=base_model.input, outputs=predictions)\n",
    "model.compile(optimizer='adam', loss='categorical_crossentropy', metrics=['accuracy'])"
   ]
  },
  {
   "cell_type": "code",
   "execution_count": 14,
   "id": "6880c0d0",
   "metadata": {},
   "outputs": [],
   "source": [
    "num_epochs = 10  # Adjust as needed\n",
    "batch_size = 32  # Adjust as needed"
   ]
  },
  {
   "cell_type": "code",
   "execution_count": 16,
   "id": "2b082580",
   "metadata": {},
   "outputs": [
    {
     "name": "stderr",
     "output_type": "stream",
     "text": [
      "[codecarbon INFO @ 22:42:13] [setup] RAM Tracking...\n",
      "[codecarbon INFO @ 22:42:13] [setup] GPU Tracking...\n",
      "[codecarbon INFO @ 22:42:13] No GPU found.\n",
      "[codecarbon INFO @ 22:42:13] [setup] CPU Tracking...\n",
      "[codecarbon WARNING @ 22:42:13] No CPU tracking mode found. Falling back on CPU constant mode.\n"
     ]
    },
    {
     "name": "stderr",
     "output_type": "stream",
     "text": [
      "[codecarbon INFO @ 22:42:18] CPU Model on constant consumption mode: Intel(R) Core(TM) i7-8550U CPU @ 1.80GHz\n",
      "[codecarbon INFO @ 22:42:18] >>> Tracker's metadata:\n",
      "[codecarbon INFO @ 22:42:18]   Platform system: Windows-10-10.0.19045-SP0\n",
      "[codecarbon INFO @ 22:42:18]   Python version: 3.10.11\n",
      "[codecarbon INFO @ 22:42:18]   CodeCarbon version: 2.3.1\n",
      "[codecarbon INFO @ 22:42:18]   Available RAM : 15.900 GB\n",
      "[codecarbon INFO @ 22:42:18]   CPU count: 8\n",
      "[codecarbon INFO @ 22:42:18]   CPU model: Intel(R) Core(TM) i7-8550U CPU @ 1.80GHz\n",
      "[codecarbon INFO @ 22:42:18]   GPU count: None\n",
      "[codecarbon INFO @ 22:42:18]   GPU model: None\n"
     ]
    },
    {
     "name": "stdout",
     "output_type": "stream",
     "text": [
      "Epoch 1/10\n",
      " 38/313 [==>...........................] - ETA: 1:42 - loss: 0.8362 - accuracy: 0.7072"
     ]
    },
    {
     "name": "stderr",
     "output_type": "stream",
     "text": [
      "[codecarbon INFO @ 22:42:34] Energy consumed for RAM : 0.000025 kWh. RAM Power : 5.962331771850587 W\n",
      "[codecarbon INFO @ 22:42:34] Energy consumed for all CPUs : 0.000031 kWh. Total CPU Power : 7.5 W\n",
      "[codecarbon INFO @ 22:42:34] 0.000056 kWh of electricity used since the beginning.\n"
     ]
    },
    {
     "name": "stdout",
     "output_type": "stream",
     "text": [
      " 80/313 [======>.......................] - ETA: 1:24 - loss: 0.8387 - accuracy: 0.7094"
     ]
    },
    {
     "name": "stderr",
     "output_type": "stream",
     "text": [
      "[codecarbon INFO @ 22:42:49] Energy consumed for RAM : 0.000050 kWh. RAM Power : 5.962331771850587 W\n",
      "[codecarbon INFO @ 22:42:49] Energy consumed for all CPUs : 0.000063 kWh. Total CPU Power : 7.5 W\n",
      "[codecarbon INFO @ 22:42:49] 0.000112 kWh of electricity used since the beginning.\n"
     ]
    },
    {
     "name": "stdout",
     "output_type": "stream",
     "text": [
      "123/313 [==========>...................] - ETA: 1:08 - loss: 0.8534 - accuracy: 0.7064"
     ]
    },
    {
     "name": "stderr",
     "output_type": "stream",
     "text": [
      "[codecarbon INFO @ 22:43:04] Energy consumed for RAM : 0.000074 kWh. RAM Power : 5.962331771850587 W\n",
      "[codecarbon INFO @ 22:43:04] Energy consumed for all CPUs : 0.000094 kWh. Total CPU Power : 7.5 W\n",
      "[codecarbon INFO @ 22:43:04] 0.000168 kWh of electricity used since the beginning.\n"
     ]
    },
    {
     "name": "stdout",
     "output_type": "stream",
     "text": [
      "166/313 [==============>...............] - ETA: 52s - loss: 0.8663 - accuracy: 0.7020"
     ]
    },
    {
     "name": "stderr",
     "output_type": "stream",
     "text": [
      "[codecarbon INFO @ 22:43:19] Energy consumed for RAM : 0.000099 kWh. RAM Power : 5.962331771850587 W\n",
      "[codecarbon INFO @ 22:43:19] Energy consumed for all CPUs : 0.000125 kWh. Total CPU Power : 7.5 W\n",
      "[codecarbon INFO @ 22:43:19] 0.000224 kWh of electricity used since the beginning.\n"
     ]
    },
    {
     "name": "stdout",
     "output_type": "stream",
     "text": [
      "209/313 [===================>..........] - ETA: 36s - loss: 0.8711 - accuracy: 0.7008"
     ]
    },
    {
     "name": "stderr",
     "output_type": "stream",
     "text": [
      "[codecarbon INFO @ 22:43:34] Energy consumed for RAM : 0.000124 kWh. RAM Power : 5.962331771850587 W\n",
      "[codecarbon INFO @ 22:43:34] Energy consumed for all CPUs : 0.000156 kWh. Total CPU Power : 7.5 W\n",
      "[codecarbon INFO @ 22:43:34] 0.000281 kWh of electricity used since the beginning.\n"
     ]
    },
    {
     "name": "stdout",
     "output_type": "stream",
     "text": [
      "251/313 [=======================>......] - ETA: 22s - loss: 0.8798 - accuracy: 0.6959"
     ]
    },
    {
     "name": "stderr",
     "output_type": "stream",
     "text": [
      "[codecarbon INFO @ 22:43:49] Energy consumed for RAM : 0.000149 kWh. RAM Power : 5.962331771850587 W\n",
      "[codecarbon INFO @ 22:43:49] Energy consumed for all CPUs : 0.000188 kWh. Total CPU Power : 7.5 W\n",
      "[codecarbon INFO @ 22:43:49] 0.000336 kWh of electricity used since the beginning.\n"
     ]
    },
    {
     "name": "stdout",
     "output_type": "stream",
     "text": [
      "293/313 [===========================>..] - ETA: 7s - loss: 0.8806 - accuracy: 0.6947"
     ]
    },
    {
     "name": "stderr",
     "output_type": "stream",
     "text": [
      "[codecarbon INFO @ 22:44:04] Energy consumed for RAM : 0.000174 kWh. RAM Power : 5.962331771850587 W\n",
      "[codecarbon INFO @ 22:44:04] Energy consumed for all CPUs : 0.000219 kWh. Total CPU Power : 7.5 W\n",
      "[codecarbon INFO @ 22:44:04] 0.000393 kWh of electricity used since the beginning.\n"
     ]
    },
    {
     "name": "stdout",
     "output_type": "stream",
     "text": [
      "313/313 [==============================] - 112s 357ms/step - loss: 0.8813 - accuracy: 0.6941\n",
      "Epoch 2/10\n",
      " 20/313 [>.............................] - ETA: 1:45 - loss: 0.8542 - accuracy: 0.6953"
     ]
    },
    {
     "name": "stderr",
     "output_type": "stream",
     "text": [
      "[codecarbon INFO @ 22:44:19] Energy consumed for RAM : 0.000198 kWh. RAM Power : 5.962331771850587 W\n",
      "[codecarbon INFO @ 22:44:19] Energy consumed for all CPUs : 0.000250 kWh. Total CPU Power : 7.5 W\n",
      "[codecarbon INFO @ 22:44:19] 0.000449 kWh of electricity used since the beginning.\n"
     ]
    },
    {
     "name": "stdout",
     "output_type": "stream",
     "text": [
      " 62/313 [====>.........................] - ETA: 1:29 - loss: 0.8367 - accuracy: 0.7006"
     ]
    },
    {
     "name": "stderr",
     "output_type": "stream",
     "text": [
      "[codecarbon INFO @ 22:44:34] Energy consumed for RAM : 0.000223 kWh. RAM Power : 5.962331771850587 W\n",
      "[codecarbon INFO @ 22:44:34] Energy consumed for all CPUs : 0.000281 kWh. Total CPU Power : 7.5 W\n",
      "[codecarbon INFO @ 22:44:34] 0.000505 kWh of electricity used since the beginning.\n"
     ]
    },
    {
     "name": "stdout",
     "output_type": "stream",
     "text": [
      "104/313 [========>.....................] - ETA: 1:14 - loss: 0.8486 - accuracy: 0.6977"
     ]
    },
    {
     "name": "stderr",
     "output_type": "stream",
     "text": [
      "[codecarbon INFO @ 22:44:49] Energy consumed for RAM : 0.000248 kWh. RAM Power : 5.962331771850587 W\n",
      "[codecarbon INFO @ 22:44:49] Energy consumed for all CPUs : 0.000313 kWh. Total CPU Power : 7.5 W\n",
      "[codecarbon INFO @ 22:44:49] 0.000561 kWh of electricity used since the beginning.\n"
     ]
    },
    {
     "name": "stdout",
     "output_type": "stream",
     "text": [
      "151/313 [=============>................] - ETA: 56s - loss: 0.8326 - accuracy: 0.7057"
     ]
    },
    {
     "name": "stderr",
     "output_type": "stream",
     "text": [
      "[codecarbon INFO @ 22:45:04] Energy consumed for RAM : 0.000273 kWh. RAM Power : 5.962331771850587 W\n",
      "[codecarbon INFO @ 22:45:04] Energy consumed for all CPUs : 0.000344 kWh. Total CPU Power : 7.5 W\n",
      "[codecarbon INFO @ 22:45:04] 0.000617 kWh of electricity used since the beginning.\n"
     ]
    },
    {
     "name": "stdout",
     "output_type": "stream",
     "text": [
      "197/313 [=================>............] - ETA: 39s - loss: 0.8418 - accuracy: 0.7046"
     ]
    },
    {
     "name": "stderr",
     "output_type": "stream",
     "text": [
      "[codecarbon INFO @ 22:45:19] Energy consumed for RAM : 0.000298 kWh. RAM Power : 5.962331771850587 W\n",
      "[codecarbon INFO @ 22:45:19] Energy consumed for all CPUs : 0.000375 kWh. Total CPU Power : 7.5 W\n",
      "[codecarbon INFO @ 22:45:19] 0.000673 kWh of electricity used since the beginning.\n"
     ]
    },
    {
     "name": "stdout",
     "output_type": "stream",
     "text": [
      "240/313 [======================>.......] - ETA: 24s - loss: 0.8438 - accuracy: 0.7064"
     ]
    },
    {
     "name": "stderr",
     "output_type": "stream",
     "text": [
      "[codecarbon INFO @ 22:45:34] Energy consumed for RAM : 0.000323 kWh. RAM Power : 5.962331771850587 W\n",
      "[codecarbon INFO @ 22:45:34] Energy consumed for all CPUs : 0.000406 kWh. Total CPU Power : 7.5 W\n",
      "[codecarbon INFO @ 22:45:34] 0.000729 kWh of electricity used since the beginning.\n"
     ]
    },
    {
     "name": "stdout",
     "output_type": "stream",
     "text": [
      "283/313 [==========================>...] - ETA: 10s - loss: 0.8587 - accuracy: 0.7008"
     ]
    },
    {
     "name": "stderr",
     "output_type": "stream",
     "text": [
      "[codecarbon INFO @ 22:45:49] Energy consumed for RAM : 0.000347 kWh. RAM Power : 5.962331771850587 W\n",
      "[codecarbon INFO @ 22:45:49] Energy consumed for all CPUs : 0.000438 kWh. Total CPU Power : 7.5 W\n",
      "[codecarbon INFO @ 22:45:49] 0.000785 kWh of electricity used since the beginning.\n"
     ]
    },
    {
     "name": "stdout",
     "output_type": "stream",
     "text": [
      "313/313 [==============================] - 108s 344ms/step - loss: 0.8635 - accuracy: 0.6986\n",
      "Epoch 3/10\n",
      " 12/313 [>.............................] - ETA: 1:51 - loss: 0.8174 - accuracy: 0.7422"
     ]
    },
    {
     "name": "stderr",
     "output_type": "stream",
     "text": [
      "[codecarbon INFO @ 22:46:04] Energy consumed for RAM : 0.000372 kWh. RAM Power : 5.962331771850587 W\n",
      "[codecarbon INFO @ 22:46:04] Energy consumed for all CPUs : 0.000469 kWh. Total CPU Power : 7.5 W\n",
      "[codecarbon INFO @ 22:46:04] 0.000841 kWh of electricity used since the beginning.\n"
     ]
    },
    {
     "name": "stdout",
     "output_type": "stream",
     "text": [
      " 53/313 [====>.........................] - ETA: 1:36 - loss: 0.7652 - accuracy: 0.7441"
     ]
    },
    {
     "name": "stderr",
     "output_type": "stream",
     "text": [
      "[codecarbon INFO @ 22:46:19] Energy consumed for RAM : 0.000397 kWh. RAM Power : 5.962331771850587 W\n",
      "[codecarbon INFO @ 22:46:19] Energy consumed for all CPUs : 0.000500 kWh. Total CPU Power : 7.5 W\n",
      "[codecarbon INFO @ 22:46:19] 0.000897 kWh of electricity used since the beginning.\n"
     ]
    },
    {
     "name": "stdout",
     "output_type": "stream",
     "text": [
      " 98/313 [========>.....................] - ETA: 1:15 - loss: 0.7839 - accuracy: 0.7296"
     ]
    },
    {
     "name": "stderr",
     "output_type": "stream",
     "text": [
      "[codecarbon INFO @ 22:46:34] Energy consumed for RAM : 0.000422 kWh. RAM Power : 5.962331771850587 W\n",
      "[codecarbon INFO @ 22:46:34] Energy consumed for all CPUs : 0.000532 kWh. Total CPU Power : 7.5 W\n",
      "[codecarbon INFO @ 22:46:34] 0.000953 kWh of electricity used since the beginning.\n"
     ]
    },
    {
     "name": "stdout",
     "output_type": "stream",
     "text": [
      "141/313 [============>.................] - ETA: 1:00 - loss: 0.8127 - accuracy: 0.7163"
     ]
    },
    {
     "name": "stderr",
     "output_type": "stream",
     "text": [
      "[codecarbon INFO @ 22:46:49] Energy consumed for RAM : 0.000447 kWh. RAM Power : 5.962331771850587 W\n",
      "[codecarbon INFO @ 22:46:49] Energy consumed for all CPUs : 0.000563 kWh. Total CPU Power : 7.5 W\n",
      "[codecarbon INFO @ 22:46:49] 0.001010 kWh of electricity used since the beginning.\n"
     ]
    },
    {
     "name": "stdout",
     "output_type": "stream",
     "text": [
      "185/313 [================>.............] - ETA: 44s - loss: 0.8190 - accuracy: 0.7149"
     ]
    },
    {
     "name": "stderr",
     "output_type": "stream",
     "text": [
      "[codecarbon INFO @ 22:47:04] Energy consumed for RAM : 0.000471 kWh. RAM Power : 5.962331771850587 W\n",
      "[codecarbon INFO @ 22:47:04] Energy consumed for all CPUs : 0.000594 kWh. Total CPU Power : 7.5 W\n",
      "[codecarbon INFO @ 22:47:04] 0.001066 kWh of electricity used since the beginning.\n"
     ]
    },
    {
     "name": "stdout",
     "output_type": "stream",
     "text": [
      "228/313 [====================>.........] - ETA: 29s - loss: 0.8255 - accuracy: 0.7133"
     ]
    },
    {
     "name": "stderr",
     "output_type": "stream",
     "text": [
      "[codecarbon INFO @ 22:47:19] Energy consumed for RAM : 0.000496 kWh. RAM Power : 5.962331771850587 W\n",
      "[codecarbon INFO @ 22:47:19] Energy consumed for all CPUs : 0.000625 kWh. Total CPU Power : 7.5 W\n",
      "[codecarbon INFO @ 22:47:19] 0.001122 kWh of electricity used since the beginning.\n"
     ]
    },
    {
     "name": "stdout",
     "output_type": "stream",
     "text": [
      "274/313 [=========================>....] - ETA: 13s - loss: 0.8414 - accuracy: 0.7057"
     ]
    },
    {
     "name": "stderr",
     "output_type": "stream",
     "text": [
      "[codecarbon INFO @ 22:47:34] Energy consumed for RAM : 0.000521 kWh. RAM Power : 5.962331771850587 W\n",
      "[codecarbon INFO @ 22:47:34] Energy consumed for all CPUs : 0.000657 kWh. Total CPU Power : 7.5 W\n",
      "[codecarbon INFO @ 22:47:34] 0.001178 kWh of electricity used since the beginning.\n"
     ]
    },
    {
     "name": "stdout",
     "output_type": "stream",
     "text": [
      "313/313 [==============================] - 107s 341ms/step - loss: 0.8456 - accuracy: 0.7042\n",
      "Epoch 4/10\n",
      "  7/313 [..............................] - ETA: 1:56 - loss: 0.8530 - accuracy: 0.6923"
     ]
    },
    {
     "name": "stderr",
     "output_type": "stream",
     "text": [
      "[codecarbon INFO @ 22:47:49] Energy consumed for RAM : 0.000546 kWh. RAM Power : 5.962331771850587 W\n",
      "[codecarbon INFO @ 22:47:49] Energy consumed for all CPUs : 0.000688 kWh. Total CPU Power : 7.5 W\n",
      "[codecarbon INFO @ 22:47:49] 0.001234 kWh of electricity used since the beginning.\n"
     ]
    },
    {
     "name": "stdout",
     "output_type": "stream",
     "text": [
      " 45/313 [===>..........................] - ETA: 1:45 - loss: 0.8054 - accuracy: 0.7128"
     ]
    },
    {
     "name": "stderr",
     "output_type": "stream",
     "text": [
      "[codecarbon INFO @ 22:48:04] Energy consumed for RAM : 0.000571 kWh. RAM Power : 5.962331771850587 W\n",
      "[codecarbon INFO @ 22:48:04] Energy consumed for all CPUs : 0.000719 kWh. Total CPU Power : 7.5 W\n",
      "[codecarbon INFO @ 22:48:04] 0.001290 kWh of electricity used since the beginning.\n"
     ]
    },
    {
     "name": "stdout",
     "output_type": "stream",
     "text": [
      " 87/313 [=======>......................] - ETA: 1:24 - loss: 0.7894 - accuracy: 0.7229"
     ]
    },
    {
     "name": "stderr",
     "output_type": "stream",
     "text": [
      "[codecarbon INFO @ 22:48:19] Energy consumed for RAM : 0.000596 kWh. RAM Power : 5.962331771850587 W\n",
      "[codecarbon INFO @ 22:48:19] Energy consumed for all CPUs : 0.000750 kWh. Total CPU Power : 7.5 W\n",
      "[codecarbon INFO @ 22:48:19] 0.001346 kWh of electricity used since the beginning.\n"
     ]
    },
    {
     "name": "stdout",
     "output_type": "stream",
     "text": [
      "128/313 [===========>..................] - ETA: 1:08 - loss: 0.8133 - accuracy: 0.7150"
     ]
    },
    {
     "name": "stderr",
     "output_type": "stream",
     "text": [
      "[codecarbon INFO @ 22:48:34] Energy consumed for RAM : 0.000620 kWh. RAM Power : 5.962331771850587 W\n"
     ]
    },
    {
     "name": "stdout",
     "output_type": "stream",
     "text": [
      "129/313 [===========>..................] - ETA: 1:08 - loss: 0.8119 - accuracy: 0.7160"
     ]
    },
    {
     "name": "stderr",
     "output_type": "stream",
     "text": [
      "[codecarbon INFO @ 22:48:34] Energy consumed for all CPUs : 0.000782 kWh. Total CPU Power : 7.5 W\n",
      "[codecarbon INFO @ 22:48:34] 0.001402 kWh of electricity used since the beginning.\n"
     ]
    },
    {
     "name": "stdout",
     "output_type": "stream",
     "text": [
      "171/313 [===============>..............] - ETA: 51s - loss: 0.8109 - accuracy: 0.7157"
     ]
    },
    {
     "name": "stderr",
     "output_type": "stream",
     "text": [
      "[codecarbon INFO @ 22:48:49] Energy consumed for RAM : 0.000645 kWh. RAM Power : 5.962331771850587 W\n",
      "[codecarbon INFO @ 22:48:49] Energy consumed for all CPUs : 0.000813 kWh. Total CPU Power : 7.5 W\n",
      "[codecarbon INFO @ 22:48:49] 0.001458 kWh of electricity used since the beginning.\n"
     ]
    },
    {
     "name": "stdout",
     "output_type": "stream",
     "text": [
      "215/313 [===================>..........] - ETA: 35s - loss: 0.8221 - accuracy: 0.7096"
     ]
    },
    {
     "name": "stderr",
     "output_type": "stream",
     "text": [
      "[codecarbon INFO @ 22:49:04] Energy consumed for RAM : 0.000670 kWh. RAM Power : 5.962331771850587 W\n",
      "[codecarbon INFO @ 22:49:04] Energy consumed for all CPUs : 0.000844 kWh. Total CPU Power : 7.5 W\n",
      "[codecarbon INFO @ 22:49:04] 0.001514 kWh of electricity used since the beginning.\n"
     ]
    },
    {
     "name": "stdout",
     "output_type": "stream",
     "text": [
      "255/313 [=======================>......] - ETA: 21s - loss: 0.8243 - accuracy: 0.7091"
     ]
    },
    {
     "name": "stderr",
     "output_type": "stream",
     "text": [
      "[codecarbon INFO @ 22:49:19] Energy consumed for RAM : 0.000695 kWh. RAM Power : 5.962331771850587 W\n",
      "[codecarbon INFO @ 22:49:19] Energy consumed for all CPUs : 0.000875 kWh. Total CPU Power : 7.5 W\n",
      "[codecarbon INFO @ 22:49:19] 0.001570 kWh of electricity used since the beginning.\n"
     ]
    },
    {
     "name": "stdout",
     "output_type": "stream",
     "text": [
      "284/313 [==========================>...] - ETA: 11s - loss: 0.8241 - accuracy: 0.7091"
     ]
    },
    {
     "name": "stderr",
     "output_type": "stream",
     "text": [
      "[codecarbon INFO @ 22:49:34] Energy consumed for RAM : 0.000720 kWh. RAM Power : 5.962331771850587 W\n",
      "[codecarbon INFO @ 22:49:34] Energy consumed for all CPUs : 0.000907 kWh. Total CPU Power : 7.5 W\n",
      "[codecarbon INFO @ 22:49:34] 0.001627 kWh of electricity used since the beginning.\n"
     ]
    },
    {
     "name": "stdout",
     "output_type": "stream",
     "text": [
      "313/313 [==============================] - 122s 391ms/step - loss: 0.8236 - accuracy: 0.7084\n"
     ]
    },
    {
     "name": "stderr",
     "output_type": "stream",
     "text": [
      "[codecarbon INFO @ 22:49:49] Energy consumed for RAM : 0.000745 kWh. RAM Power : 5.962331771850587 W\n",
      "[codecarbon INFO @ 22:49:50] Energy consumed for all CPUs : 0.000939 kWh. Total CPU Power : 7.5 W\n",
      "[codecarbon INFO @ 22:49:50] 0.001683 kWh of electricity used since the beginning.\n",
      "[codecarbon INFO @ 22:50:05] Energy consumed for RAM : 0.000770 kWh. RAM Power : 5.962331771850587 W\n",
      "[codecarbon INFO @ 22:50:05] Energy consumed for all CPUs : 0.000970 kWh. Total CPU Power : 7.5 W\n",
      "[codecarbon INFO @ 22:50:05] 0.001739 kWh of electricity used since the beginning.\n"
     ]
    },
    {
     "name": "stdout",
     "output_type": "stream",
     "text": [
      "Epoch 5/10\n",
      " 25/313 [=>............................] - ETA: 2:05 - loss: 0.8090 - accuracy: 0.7075"
     ]
    },
    {
     "name": "stderr",
     "output_type": "stream",
     "text": [
      "[codecarbon INFO @ 22:50:20] Energy consumed for RAM : 0.000794 kWh. RAM Power : 5.962331771850587 W\n",
      "[codecarbon INFO @ 22:50:20] Energy consumed for all CPUs : 0.001001 kWh. Total CPU Power : 7.5 W\n",
      "[codecarbon INFO @ 22:50:20] 0.001796 kWh of electricity used since the beginning.\n"
     ]
    },
    {
     "name": "stdout",
     "output_type": "stream",
     "text": [
      " 65/313 [=====>........................] - ETA: 1:37 - loss: 0.8062 - accuracy: 0.7108"
     ]
    },
    {
     "name": "stderr",
     "output_type": "stream",
     "text": [
      "[codecarbon INFO @ 22:50:35] Energy consumed for RAM : 0.000819 kWh. RAM Power : 5.962331771850587 W\n",
      "[codecarbon INFO @ 22:50:35] Energy consumed for all CPUs : 0.001032 kWh. Total CPU Power : 7.5 W\n",
      "[codecarbon INFO @ 22:50:35] 0.001852 kWh of electricity used since the beginning.\n"
     ]
    },
    {
     "name": "stdout",
     "output_type": "stream",
     "text": [
      "110/313 [=========>....................] - ETA: 1:15 - loss: 0.8017 - accuracy: 0.7160"
     ]
    },
    {
     "name": "stderr",
     "output_type": "stream",
     "text": [
      "[codecarbon INFO @ 22:50:50] Energy consumed for RAM : 0.000844 kWh. RAM Power : 5.962331771850587 W\n",
      "[codecarbon INFO @ 22:50:50] Energy consumed for all CPUs : 0.001064 kWh. Total CPU Power : 7.5 W\n",
      "[codecarbon INFO @ 22:50:50] 0.001908 kWh of electricity used since the beginning.\n"
     ]
    },
    {
     "name": "stdout",
     "output_type": "stream",
     "text": [
      "156/313 [=============>................] - ETA: 56s - loss: 0.7941 - accuracy: 0.7225"
     ]
    },
    {
     "name": "stderr",
     "output_type": "stream",
     "text": [
      "[codecarbon INFO @ 22:51:05] Energy consumed for RAM : 0.000869 kWh. RAM Power : 5.962331771850587 W\n",
      "[codecarbon INFO @ 22:51:05] Energy consumed for all CPUs : 0.001095 kWh. Total CPU Power : 7.5 W\n",
      "[codecarbon INFO @ 22:51:05] 0.001964 kWh of electricity used since the beginning.\n"
     ]
    },
    {
     "name": "stdout",
     "output_type": "stream",
     "text": [
      "203/313 [==================>...........] - ETA: 38s - loss: 0.7937 - accuracy: 0.7205"
     ]
    },
    {
     "name": "stderr",
     "output_type": "stream",
     "text": [
      "[codecarbon INFO @ 22:51:20] Energy consumed for RAM : 0.000894 kWh. RAM Power : 5.962331771850587 W\n",
      "[codecarbon INFO @ 22:51:20] Energy consumed for all CPUs : 0.001126 kWh. Total CPU Power : 7.5 W\n",
      "[codecarbon INFO @ 22:51:20] 0.002020 kWh of electricity used since the beginning.\n"
     ]
    },
    {
     "name": "stdout",
     "output_type": "stream",
     "text": [
      "254/313 [=======================>......] - ETA: 19s - loss: 0.7995 - accuracy: 0.7177"
     ]
    },
    {
     "name": "stderr",
     "output_type": "stream",
     "text": [
      "[codecarbon INFO @ 22:51:35] Energy consumed for RAM : 0.000919 kWh. RAM Power : 5.962331771850587 W\n",
      "[codecarbon INFO @ 22:51:35] Energy consumed for all CPUs : 0.001157 kWh. Total CPU Power : 7.5 W\n",
      "[codecarbon INFO @ 22:51:35] 0.002076 kWh of electricity used since the beginning.\n"
     ]
    },
    {
     "name": "stdout",
     "output_type": "stream",
     "text": [
      "304/313 [============================>.] - ETA: 2s - loss: 0.8118 - accuracy: 0.7134"
     ]
    },
    {
     "name": "stderr",
     "output_type": "stream",
     "text": [
      "[codecarbon INFO @ 22:51:50] Energy consumed for RAM : 0.000943 kWh. RAM Power : 5.962331771850587 W\n",
      "[codecarbon INFO @ 22:51:50] Energy consumed for all CPUs : 0.001189 kWh. Total CPU Power : 7.5 W\n",
      "[codecarbon INFO @ 22:51:50] 0.002132 kWh of electricity used since the beginning.\n"
     ]
    },
    {
     "name": "stdout",
     "output_type": "stream",
     "text": [
      "313/313 [==============================] - 104s 331ms/step - loss: 0.8111 - accuracy: 0.7141\n",
      "Epoch 6/10\n",
      " 41/313 [==>...........................] - ETA: 1:18 - loss: 0.7581 - accuracy: 0.7355"
     ]
    },
    {
     "name": "stderr",
     "output_type": "stream",
     "text": [
      "[codecarbon INFO @ 22:52:05] Energy consumed for RAM : 0.000968 kWh. RAM Power : 5.962331771850587 W\n",
      "[codecarbon INFO @ 22:52:05] Energy consumed for all CPUs : 0.001220 kWh. Total CPU Power : 7.5 W\n"
     ]
    },
    {
     "name": "stdout",
     "output_type": "stream",
     "text": [
      " 42/313 [===>..........................] - ETA: 1:18 - loss: 0.7490 - accuracy: 0.7381"
     ]
    },
    {
     "name": "stderr",
     "output_type": "stream",
     "text": [
      "[codecarbon INFO @ 22:52:05] 0.002188 kWh of electricity used since the beginning.\n"
     ]
    },
    {
     "name": "stdout",
     "output_type": "stream",
     "text": [
      " 91/313 [=======>......................] - ETA: 1:05 - loss: 0.7617 - accuracy: 0.7308"
     ]
    },
    {
     "name": "stderr",
     "output_type": "stream",
     "text": [
      "[codecarbon INFO @ 22:52:20] Energy consumed for RAM : 0.000993 kWh. RAM Power : 5.962331771850587 W\n",
      "[codecarbon INFO @ 22:52:20] Energy consumed for all CPUs : 0.001251 kWh. Total CPU Power : 7.5 W\n",
      "[codecarbon INFO @ 22:52:20] 0.002244 kWh of electricity used since the beginning.\n"
     ]
    },
    {
     "name": "stdout",
     "output_type": "stream",
     "text": [
      "130/313 [===========>..................] - ETA: 59s - loss: 0.7622 - accuracy: 0.7334"
     ]
    },
    {
     "name": "stderr",
     "output_type": "stream",
     "text": [
      "[codecarbon INFO @ 22:52:35] Energy consumed for RAM : 0.001018 kWh. RAM Power : 5.962331771850587 W\n",
      "[codecarbon INFO @ 22:52:35] Energy consumed for all CPUs : 0.001283 kWh. Total CPU Power : 7.5 W\n",
      "[codecarbon INFO @ 22:52:35] 0.002301 kWh of electricity used since the beginning.\n"
     ]
    },
    {
     "name": "stdout",
     "output_type": "stream",
     "text": [
      "179/313 [================>.............] - ETA: 42s - loss: 0.7743 - accuracy: 0.7301"
     ]
    },
    {
     "name": "stderr",
     "output_type": "stream",
     "text": [
      "[codecarbon INFO @ 22:52:50] Energy consumed for RAM : 0.001043 kWh. RAM Power : 5.962331771850587 W\n",
      "[codecarbon INFO @ 22:52:50] Energy consumed for all CPUs : 0.001314 kWh. Total CPU Power : 7.5 W\n",
      "[codecarbon INFO @ 22:52:50] 0.002357 kWh of electricity used since the beginning.\n"
     ]
    },
    {
     "name": "stdout",
     "output_type": "stream",
     "text": [
      "230/313 [=====================>........] - ETA: 25s - loss: 0.7739 - accuracy: 0.7315"
     ]
    },
    {
     "name": "stderr",
     "output_type": "stream",
     "text": [
      "[codecarbon INFO @ 22:53:05] Energy consumed for RAM : 0.001068 kWh. RAM Power : 5.962331771850587 W\n"
     ]
    },
    {
     "name": "stdout",
     "output_type": "stream",
     "text": [
      "231/313 [=====================>........] - ETA: 25s - loss: 0.7751 - accuracy: 0.7312"
     ]
    },
    {
     "name": "stderr",
     "output_type": "stream",
     "text": [
      "[codecarbon INFO @ 22:53:05] Energy consumed for all CPUs : 0.001345 kWh. Total CPU Power : 7.5 W\n",
      "[codecarbon INFO @ 22:53:05] 0.002413 kWh of electricity used since the beginning.\n"
     ]
    },
    {
     "name": "stdout",
     "output_type": "stream",
     "text": [
      "280/313 [=========================>....] - ETA: 10s - loss: 0.7859 - accuracy: 0.7273"
     ]
    },
    {
     "name": "stderr",
     "output_type": "stream",
     "text": [
      "[codecarbon INFO @ 22:53:20] Energy consumed for RAM : 0.001092 kWh. RAM Power : 5.962331771850587 W\n",
      "[codecarbon INFO @ 22:53:20] Energy consumed for all CPUs : 0.001376 kWh. Total CPU Power : 7.5 W\n",
      "[codecarbon INFO @ 22:53:20] 0.002469 kWh of electricity used since the beginning.\n"
     ]
    },
    {
     "name": "stdout",
     "output_type": "stream",
     "text": [
      "313/313 [==============================] - 97s 311ms/step - loss: 0.7876 - accuracy: 0.7270\n",
      "Epoch 7/10\n",
      " 15/313 [>.............................] - ETA: 1:29 - loss: 0.6912 - accuracy: 0.7625"
     ]
    },
    {
     "name": "stderr",
     "output_type": "stream",
     "text": [
      "[codecarbon INFO @ 22:53:35] Energy consumed for RAM : 0.001117 kWh. RAM Power : 5.962331771850587 W\n",
      "[codecarbon INFO @ 22:53:35] Energy consumed for all CPUs : 0.001408 kWh. Total CPU Power : 7.5 W\n",
      "[codecarbon INFO @ 22:53:35] 0.002525 kWh of electricity used since the beginning.\n"
     ]
    },
    {
     "name": "stdout",
     "output_type": "stream",
     "text": [
      " 62/313 [====>.........................] - ETA: 1:20 - loss: 0.7186 - accuracy: 0.7450"
     ]
    },
    {
     "name": "stderr",
     "output_type": "stream",
     "text": [
      "[codecarbon INFO @ 22:53:50] Energy consumed for RAM : 0.001142 kWh. RAM Power : 5.962331771850587 W\n",
      "[codecarbon INFO @ 22:53:50] Energy consumed for all CPUs : 0.001439 kWh. Total CPU Power : 7.5 W\n",
      "[codecarbon INFO @ 22:53:50] 0.002581 kWh of electricity used since the beginning.\n"
     ]
    },
    {
     "name": "stdout",
     "output_type": "stream",
     "text": [
      "111/313 [=========>....................] - ETA: 1:03 - loss: 0.7132 - accuracy: 0.7517"
     ]
    },
    {
     "name": "stderr",
     "output_type": "stream",
     "text": [
      "[codecarbon INFO @ 22:54:05] Energy consumed for RAM : 0.001167 kWh. RAM Power : 5.962331771850587 W\n",
      "[codecarbon INFO @ 22:54:05] Energy consumed for all CPUs : 0.001470 kWh. Total CPU Power : 7.5 W\n",
      "[codecarbon INFO @ 22:54:05] 0.002637 kWh of electricity used since the beginning.\n"
     ]
    },
    {
     "name": "stdout",
     "output_type": "stream",
     "text": [
      "160/313 [==============>...............] - ETA: 47s - loss: 0.7198 - accuracy: 0.7478"
     ]
    },
    {
     "name": "stderr",
     "output_type": "stream",
     "text": [
      "[codecarbon INFO @ 22:54:20] Energy consumed for RAM : 0.001192 kWh. RAM Power : 5.962331771850587 W\n",
      "[codecarbon INFO @ 22:54:20] Energy consumed for all CPUs : 0.001501 kWh. Total CPU Power : 7.5 W\n",
      "[codecarbon INFO @ 22:54:20] 0.002693 kWh of electricity used since the beginning.\n"
     ]
    },
    {
     "name": "stdout",
     "output_type": "stream",
     "text": [
      "207/313 [==================>...........] - ETA: 33s - loss: 0.7356 - accuracy: 0.7432"
     ]
    },
    {
     "name": "stderr",
     "output_type": "stream",
     "text": [
      "[codecarbon INFO @ 22:54:35] Energy consumed for RAM : 0.001216 kWh. RAM Power : 5.962331771850587 W\n",
      "[codecarbon INFO @ 22:54:35] Energy consumed for all CPUs : 0.001533 kWh. Total CPU Power : 7.5 W\n",
      "[codecarbon INFO @ 22:54:35] 0.002749 kWh of electricity used since the beginning.\n"
     ]
    },
    {
     "name": "stdout",
     "output_type": "stream",
     "text": [
      "254/313 [=======================>......] - ETA: 18s - loss: 0.7444 - accuracy: 0.7405"
     ]
    },
    {
     "name": "stderr",
     "output_type": "stream",
     "text": [
      "[codecarbon INFO @ 22:54:50] Energy consumed for RAM : 0.001241 kWh. RAM Power : 5.962331771850587 W\n",
      "[codecarbon INFO @ 22:54:50] Energy consumed for all CPUs : 0.001564 kWh. Total CPU Power : 7.5 W\n",
      "[codecarbon INFO @ 22:54:50] 0.002805 kWh of electricity used since the beginning.\n"
     ]
    },
    {
     "name": "stdout",
     "output_type": "stream",
     "text": [
      "301/313 [===========================>..] - ETA: 3s - loss: 0.7499 - accuracy: 0.7370"
     ]
    },
    {
     "name": "stderr",
     "output_type": "stream",
     "text": [
      "[codecarbon INFO @ 22:55:05] Energy consumed for RAM : 0.001266 kWh. RAM Power : 5.962331771850587 W\n"
     ]
    },
    {
     "name": "stdout",
     "output_type": "stream",
     "text": [
      "302/313 [===========================>..] - ETA: 3s - loss: 0.7512 - accuracy: 0.7365"
     ]
    },
    {
     "name": "stderr",
     "output_type": "stream",
     "text": [
      "[codecarbon INFO @ 22:55:05] Energy consumed for all CPUs : 0.001595 kWh. Total CPU Power : 7.5 W\n",
      "[codecarbon INFO @ 22:55:05] 0.002861 kWh of electricity used since the beginning.\n"
     ]
    },
    {
     "name": "stdout",
     "output_type": "stream",
     "text": [
      "313/313 [==============================] - 99s 314ms/step - loss: 0.7528 - accuracy: 0.7361\n",
      "Epoch 8/10\n",
      " 36/313 [==>...........................] - ETA: 1:24 - loss: 0.6691 - accuracy: 0.7691"
     ]
    },
    {
     "name": "stderr",
     "output_type": "stream",
     "text": [
      "[codecarbon INFO @ 22:55:20] Energy consumed for RAM : 0.001291 kWh. RAM Power : 5.962331771850587 W\n",
      "[codecarbon INFO @ 22:55:20] Energy consumed for all CPUs : 0.001626 kWh. Total CPU Power : 7.5 W\n",
      "[codecarbon INFO @ 22:55:20] 0.002917 kWh of electricity used since the beginning.\n"
     ]
    },
    {
     "name": "stdout",
     "output_type": "stream",
     "text": [
      " 85/313 [=======>......................] - ETA: 1:09 - loss: 0.7249 - accuracy: 0.7537"
     ]
    },
    {
     "name": "stderr",
     "output_type": "stream",
     "text": [
      "[codecarbon INFO @ 22:55:35] Energy consumed for RAM : 0.001316 kWh. RAM Power : 5.962331771850587 W\n",
      "[codecarbon INFO @ 22:55:35] Energy consumed for all CPUs : 0.001658 kWh. Total CPU Power : 7.5 W\n"
     ]
    },
    {
     "name": "stdout",
     "output_type": "stream",
     "text": [
      " 86/313 [=======>......................] - ETA: 1:09 - loss: 0.7263 - accuracy: 0.7540"
     ]
    },
    {
     "name": "stderr",
     "output_type": "stream",
     "text": [
      "[codecarbon INFO @ 22:55:35] 0.002973 kWh of electricity used since the beginning.\n"
     ]
    },
    {
     "name": "stdout",
     "output_type": "stream",
     "text": [
      "134/313 [===========>..................] - ETA: 54s - loss: 0.7320 - accuracy: 0.7437"
     ]
    },
    {
     "name": "stderr",
     "output_type": "stream",
     "text": [
      "[codecarbon INFO @ 22:55:50] Energy consumed for RAM : 0.001340 kWh. RAM Power : 5.962331771850587 W\n",
      "[codecarbon INFO @ 22:55:50] Energy consumed for all CPUs : 0.001689 kWh. Total CPU Power : 7.5 W\n",
      "[codecarbon INFO @ 22:55:50] 0.003030 kWh of electricity used since the beginning.\n"
     ]
    },
    {
     "name": "stdout",
     "output_type": "stream",
     "text": [
      "182/313 [================>.............] - ETA: 40s - loss: 0.7408 - accuracy: 0.7382"
     ]
    },
    {
     "name": "stderr",
     "output_type": "stream",
     "text": [
      "[codecarbon INFO @ 22:56:05] Energy consumed for RAM : 0.001365 kWh. RAM Power : 5.962331771850587 W\n",
      "[codecarbon INFO @ 22:56:05] Energy consumed for all CPUs : 0.001720 kWh. Total CPU Power : 7.5 W\n",
      "[codecarbon INFO @ 22:56:05] 0.003086 kWh of electricity used since the beginning.\n"
     ]
    },
    {
     "name": "stdout",
     "output_type": "stream",
     "text": [
      "232/313 [=====================>........] - ETA: 24s - loss: 0.7426 - accuracy: 0.7388"
     ]
    },
    {
     "name": "stderr",
     "output_type": "stream",
     "text": [
      "[codecarbon INFO @ 22:56:20] Energy consumed for RAM : 0.001390 kWh. RAM Power : 5.962331771850587 W\n",
      "[codecarbon INFO @ 22:56:20] Energy consumed for all CPUs : 0.001752 kWh. Total CPU Power : 7.5 W\n",
      "[codecarbon INFO @ 22:56:20] 0.003142 kWh of electricity used since the beginning.\n"
     ]
    },
    {
     "name": "stdout",
     "output_type": "stream",
     "text": [
      "279/313 [=========================>....] - ETA: 10s - loss: 0.7430 - accuracy: 0.7388"
     ]
    },
    {
     "name": "stderr",
     "output_type": "stream",
     "text": [
      "[codecarbon INFO @ 22:56:35] Energy consumed for RAM : 0.001415 kWh. RAM Power : 5.962331771850587 W\n",
      "[codecarbon INFO @ 22:56:35] Energy consumed for all CPUs : 0.001783 kWh. Total CPU Power : 7.5 W\n",
      "[codecarbon INFO @ 22:56:35] 0.003198 kWh of electricity used since the beginning.\n"
     ]
    },
    {
     "name": "stdout",
     "output_type": "stream",
     "text": [
      "313/313 [==============================] - 97s 309ms/step - loss: 0.7483 - accuracy: 0.7347\n",
      "Epoch 9/10\n",
      " 13/313 [>.............................] - ETA: 1:36 - loss: 0.6573 - accuracy: 0.7620"
     ]
    },
    {
     "name": "stderr",
     "output_type": "stream",
     "text": [
      "[codecarbon INFO @ 22:56:50] Energy consumed for RAM : 0.001440 kWh. RAM Power : 5.962331771850587 W\n",
      "[codecarbon INFO @ 22:56:50] Energy consumed for all CPUs : 0.001814 kWh. Total CPU Power : 7.5 W\n",
      "[codecarbon INFO @ 22:56:50] 0.003254 kWh of electricity used since the beginning.\n"
     ]
    },
    {
     "name": "stdout",
     "output_type": "stream",
     "text": [
      " 63/313 [=====>........................] - ETA: 1:15 - loss: 0.6770 - accuracy: 0.7515"
     ]
    },
    {
     "name": "stderr",
     "output_type": "stream",
     "text": [
      "[codecarbon INFO @ 22:57:05] Energy consumed for RAM : 0.001465 kWh. RAM Power : 5.962331771850587 W\n",
      "[codecarbon INFO @ 22:57:05] Energy consumed for all CPUs : 0.001845 kWh. Total CPU Power : 7.5 W\n",
      "[codecarbon INFO @ 22:57:05] 0.003310 kWh of electricity used since the beginning.\n"
     ]
    },
    {
     "name": "stdout",
     "output_type": "stream",
     "text": [
      "112/313 [=========>....................] - ETA: 1:01 - loss: 0.7058 - accuracy: 0.7467"
     ]
    },
    {
     "name": "stderr",
     "output_type": "stream",
     "text": [
      "[codecarbon INFO @ 22:57:20] Energy consumed for RAM : 0.001489 kWh. RAM Power : 5.962331771850587 W\n",
      "[codecarbon INFO @ 22:57:20] Energy consumed for all CPUs : 0.001877 kWh. Total CPU Power : 7.5 W\n",
      "[codecarbon INFO @ 22:57:20] 0.003366 kWh of electricity used since the beginning.\n"
     ]
    },
    {
     "name": "stdout",
     "output_type": "stream",
     "text": [
      "161/313 [==============>...............] - ETA: 46s - loss: 0.7276 - accuracy: 0.7393"
     ]
    },
    {
     "name": "stderr",
     "output_type": "stream",
     "text": [
      "[codecarbon INFO @ 22:57:35] Energy consumed for RAM : 0.001514 kWh. RAM Power : 5.962331771850587 W\n",
      "[codecarbon INFO @ 22:57:35] Energy consumed for all CPUs : 0.001908 kWh. Total CPU Power : 7.5 W\n",
      "[codecarbon INFO @ 22:57:35] 0.003422 kWh of electricity used since the beginning.\n"
     ]
    },
    {
     "name": "stdout",
     "output_type": "stream",
     "text": [
      "212/313 [===================>..........] - ETA: 30s - loss: 0.7187 - accuracy: 0.7415"
     ]
    },
    {
     "name": "stderr",
     "output_type": "stream",
     "text": [
      "[codecarbon INFO @ 22:57:50] Energy consumed for RAM : 0.001539 kWh. RAM Power : 5.962331771850587 W\n",
      "[codecarbon INFO @ 22:57:50] Energy consumed for all CPUs : 0.001939 kWh. Total CPU Power : 7.5 W\n",
      "[codecarbon INFO @ 22:57:50] 0.003478 kWh of electricity used since the beginning.\n"
     ]
    },
    {
     "name": "stdout",
     "output_type": "stream",
     "text": [
      "262/313 [========================>.....] - ETA: 15s - loss: 0.7332 - accuracy: 0.7402"
     ]
    },
    {
     "name": "stderr",
     "output_type": "stream",
     "text": [
      "[codecarbon INFO @ 22:58:05] Energy consumed for RAM : 0.001564 kWh. RAM Power : 5.962331771850587 W\n",
      "[codecarbon INFO @ 22:58:05] Energy consumed for all CPUs : 0.001970 kWh. Total CPU Power : 7.5 W\n",
      "[codecarbon INFO @ 22:58:05] 0.003534 kWh of electricity used since the beginning.\n"
     ]
    },
    {
     "name": "stdout",
     "output_type": "stream",
     "text": [
      "308/313 [============================>.] - ETA: 1s - loss: 0.7349 - accuracy: 0.7393"
     ]
    },
    {
     "name": "stderr",
     "output_type": "stream",
     "text": [
      "[codecarbon INFO @ 22:58:20] Energy consumed for RAM : 0.001588 kWh. RAM Power : 5.962331771850587 W\n"
     ]
    },
    {
     "name": "stdout",
     "output_type": "stream",
     "text": [
      "309/313 [============================>.] - ETA: 1s - loss: 0.7348 - accuracy: 0.7393"
     ]
    },
    {
     "name": "stderr",
     "output_type": "stream",
     "text": [
      "[codecarbon INFO @ 22:58:20] Energy consumed for all CPUs : 0.002002 kWh. Total CPU Power : 7.5 W\n",
      "[codecarbon INFO @ 22:58:20] 0.003590 kWh of electricity used since the beginning.\n"
     ]
    },
    {
     "name": "stdout",
     "output_type": "stream",
     "text": [
      "313/313 [==============================] - 96s 305ms/step - loss: 0.7346 - accuracy: 0.7391\n",
      "Epoch 10/10\n",
      " 45/313 [===>..........................] - ETA: 1:19 - loss: 0.7042 - accuracy: 0.7722"
     ]
    },
    {
     "name": "stderr",
     "output_type": "stream",
     "text": [
      "[codecarbon INFO @ 22:58:35] Energy consumed for RAM : 0.001613 kWh. RAM Power : 5.962331771850587 W\n",
      "[codecarbon INFO @ 22:58:35] Energy consumed for all CPUs : 0.002033 kWh. Total CPU Power : 7.5 W\n",
      "[codecarbon INFO @ 22:58:35] 0.003646 kWh of electricity used since the beginning.\n"
     ]
    },
    {
     "name": "stdout",
     "output_type": "stream",
     "text": [
      " 94/313 [========>.....................] - ETA: 1:05 - loss: 0.7226 - accuracy: 0.7593"
     ]
    },
    {
     "name": "stderr",
     "output_type": "stream",
     "text": [
      "[codecarbon INFO @ 22:58:50] Energy consumed for RAM : 0.001638 kWh. RAM Power : 5.962331771850587 W\n",
      "[codecarbon INFO @ 22:58:50] Energy consumed for all CPUs : 0.002064 kWh. Total CPU Power : 7.5 W\n",
      "[codecarbon INFO @ 22:58:50] 0.003702 kWh of electricity used since the beginning.\n"
     ]
    },
    {
     "name": "stdout",
     "output_type": "stream",
     "text": [
      "147/313 [=============>................] - ETA: 49s - loss: 0.7257 - accuracy: 0.7526"
     ]
    },
    {
     "name": "stderr",
     "output_type": "stream",
     "text": [
      "[codecarbon INFO @ 22:59:05] Energy consumed for RAM : 0.001663 kWh. RAM Power : 5.962331771850587 W\n",
      "[codecarbon INFO @ 22:59:05] Energy consumed for all CPUs : 0.002095 kWh. Total CPU Power : 7.5 W\n",
      "[codecarbon INFO @ 22:59:05] 0.003758 kWh of electricity used since the beginning.\n"
     ]
    },
    {
     "name": "stdout",
     "output_type": "stream",
     "text": [
      "198/313 [=================>............] - ETA: 33s - loss: 0.7257 - accuracy: 0.7484"
     ]
    },
    {
     "name": "stderr",
     "output_type": "stream",
     "text": [
      "[codecarbon INFO @ 22:59:20] Energy consumed for RAM : 0.001688 kWh. RAM Power : 5.962331771850587 W\n",
      "[codecarbon INFO @ 22:59:20] Energy consumed for all CPUs : 0.002127 kWh. Total CPU Power : 7.5 W\n",
      "[codecarbon INFO @ 22:59:20] 0.003814 kWh of electricity used since the beginning.\n"
     ]
    },
    {
     "name": "stdout",
     "output_type": "stream",
     "text": [
      "247/313 [======================>.......] - ETA: 19s - loss: 0.7254 - accuracy: 0.7466"
     ]
    },
    {
     "name": "stderr",
     "output_type": "stream",
     "text": [
      "[codecarbon INFO @ 22:59:35] Energy consumed for RAM : 0.001713 kWh. RAM Power : 5.962331771850587 W\n",
      "[codecarbon INFO @ 22:59:35] Energy consumed for all CPUs : 0.002158 kWh. Total CPU Power : 7.5 W\n",
      "[codecarbon INFO @ 22:59:35] 0.003870 kWh of electricity used since the beginning.\n"
     ]
    },
    {
     "name": "stdout",
     "output_type": "stream",
     "text": [
      "296/313 [===========================>..] - ETA: 5s - loss: 0.7324 - accuracy: 0.7424"
     ]
    },
    {
     "name": "stderr",
     "output_type": "stream",
     "text": [
      "[codecarbon INFO @ 22:59:50] Energy consumed for RAM : 0.001737 kWh. RAM Power : 5.962331771850587 W\n",
      "[codecarbon INFO @ 22:59:50] Energy consumed for all CPUs : 0.002189 kWh. Total CPU Power : 7.5 W\n",
      "[codecarbon INFO @ 22:59:50] 0.003927 kWh of electricity used since the beginning.\n"
     ]
    },
    {
     "name": "stdout",
     "output_type": "stream",
     "text": [
      "313/313 [==============================] - 94s 299ms/step - loss: 0.7312 - accuracy: 0.7434\n"
     ]
    },
    {
     "name": "stderr",
     "output_type": "stream",
     "text": [
      "C:\\Users\\PC\\AppData\\Local\\Packages\\PythonSoftwareFoundation.Python.3.10_qbz5n2kfra8p0\\LocalCache\\local-packages\\Python310\\site-packages\\keras\\src\\engine\\training.py:3079: UserWarning: You are saving your model as an HDF5 file via `model.save()`. This file format is considered legacy. We recommend using instead the native Keras format, e.g. `model.save('my_model.keras')`.\n",
      "  saving_api.save_model(\n",
      "[codecarbon INFO @ 22:59:57] Energy consumed for RAM : 0.001749 kWh. RAM Power : 5.962331771850587 W\n",
      "[codecarbon INFO @ 22:59:57] Energy consumed for all CPUs : 0.002203 kWh. Total CPU Power : 7.5 W\n",
      "[codecarbon INFO @ 22:59:57] 0.003952 kWh of electricity used since the beginning.\n"
     ]
    },
    {
     "name": "stdout",
     "output_type": "stream",
     "text": [
      "313/313 [==============================] - 98s 298ms/step - loss: 0.6956 - accuracy: 0.7588\n",
      "313/313 [==============================] - 98s 303ms/step\n"
     ]
    }
   ],
   "source": [
    "# mlflow.set_experiment(\"cifar10\")\n",
    "# mlflow.sklearn.autolog(log_model_signatures=False, log_datasets=False)\n",
    "\n",
    "# with mlflow.start_run():\n",
    "#   mlflow.log_params({\n",
    "#     \"model_name\": \"imagenet-cifar10\" ,\n",
    "#     \"dataset_name\": \"CIFAR-10 Test\" ,\n",
    "#     \"num_epochs\": num_epochs ,\n",
    "#     \"batch_size\": batch_size\n",
    "#   })\n",
    "\n",
    "with EmissionsTracker() as tracker:\n",
    "  model.fit(train_generator, epochs=num_epochs, batch_size=batch_size)\n",
    "  #model.save('../models/cifar10.h5')#MODELS_DIR/'cifar10.h5')\n",
    "  model.save(MODELS_DIR/'cifar10.h5')\n",
    "  #loaded_model = tf.keras.models.load_model('your_model.h5')\n",
    "\n",
    "evaluation = model.evaluate(test_generator)\n",
    "\n",
    "loss = evaluation[0]\n",
    "accuracy = evaluation[1]\n",
    "# mlflow.log_metric(\"evaluation_loss\", loss)\n",
    "# mlflow.log_metric(\"evaluation_accuracy\", accuracy)\n",
    "\n",
    "# Calculate F1 score\n",
    "y_true = test_generator.classes\n",
    "y_pred = model.predict(test_generator)\n",
    "y_pred = y_pred.argmax(axis=-1)  # Convert predicted probabilities to class labels\n",
    "f1score = f1_score(y_true, y_pred, average='weighted')\n",
    "# mlflow.log_metric(\"evaluation_f1score\", f1score)\n",
    "\n",
    "# Log model\n",
    "# with open(MODELS_DIR / \"cifar10.pkl\", \"wb\") as pickle_file:\n",
    "#     pickle.dump(model, pickle_file)\n",
    "  "
   ]
  }
 ],
 "metadata": {
  "kernelspec": {
   "display_name": "Python 3 (ipykernel)",
   "language": "python",
   "name": "python3"
  },
  "language_info": {
   "codemirror_mode": {
    "name": "ipython",
    "version": 3
   },
   "file_extension": ".py",
   "mimetype": "text/x-python",
   "name": "python",
   "nbconvert_exporter": "python",
   "pygments_lexer": "ipython3",
   "version": "3.10.11"
  }
 },
 "nbformat": 4,
 "nbformat_minor": 5
}
